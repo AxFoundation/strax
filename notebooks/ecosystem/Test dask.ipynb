{
 "cells": [
  {
   "cell_type": "code",
   "execution_count": 1,
   "metadata": {},
   "outputs": [],
   "source": [
    "import strax\n",
    "import numpy as np\n",
    "import dask"
   ]
  },
  {
   "cell_type": "code",
   "execution_count": 2,
   "metadata": {},
   "outputs": [],
   "source": [
    "import strax.ecosystem as es"
   ]
  },
  {
   "cell_type": "code",
   "execution_count": 3,
   "metadata": {},
   "outputs": [
    {
     "data": {
      "text/plain": [
       "{'peak_details': <strax.ecosystem.PeakDetails at 0x7ff2eb944a58>,\n",
       " 'peak_widths': <strax.ecosystem.PeakWidths at 0x7ff2c46ba0f0>,\n",
       " 'raw_records': <strax.ecosystem.RawRecords at 0x7ff2eb965d68>}"
      ]
     },
     "execution_count": 3,
     "metadata": {},
     "output_type": "execute_result"
    }
   ],
   "source": [
    "es.PROVIDES"
   ]
  },
  {
   "cell_type": "code",
   "execution_count": 4,
   "metadata": {},
   "outputs": [],
   "source": [
    "tg = es.PROVIDES['peak_widths'].task_graph('some_run')"
   ]
  },
  {
   "cell_type": "code",
   "execution_count": 15,
   "metadata": {},
   "outputs": [
    {
     "data": {
      "text/plain": [
       "(('a', 1), ('b', 2))"
      ]
     },
     "execution_count": 15,
     "metadata": {},
     "output_type": "execute_result"
    }
   ],
   "source": [
    "tuple(sorted(dict(a=1, b=2).items()))"
   ]
  },
  {
   "cell_type": "code",
   "execution_count": 9,
   "metadata": {},
   "outputs": [
    {
     "data": {
      "text/plain": [
       "{('PeakDetails',\n",
       "  '0.0.1'): (<bound method StraxExtension._compute of <strax.ecosystem.PeakDetails object at 0x7ff2eb944a58>>, 'some_run', {('RawRecords',\n",
       "    '0.0.1')}, ('RawRecords', '0.0.1')),\n",
       " ('PeakWidths',\n",
       "  '0.1'): (<bound method StraxExtension._compute of <strax.ecosystem.PeakWidths object at 0x7ff2c46ba0f0>>, 'some_run', {('PeakDetails',\n",
       "    '0.0.1'),\n",
       "   ('RawRecords', '0.0.1')}, ('PeakDetails', '0.0.1')),\n",
       " ('RawRecords',\n",
       "  '0.0.1'): (<bound method StraxExtension._compute of <strax.ecosystem.RawRecords object at 0x7ff2eb965d68>>, 'some_run', set())}"
      ]
     },
     "execution_count": 9,
     "metadata": {},
     "output_type": "execute_result"
    }
   ],
   "source": [
    "tg"
   ]
  },
  {
   "cell_type": "code",
   "execution_count": 6,
   "metadata": {},
   "outputs": [],
   "source": [
    "def find_cached_file(key, lin):\n",
    "    if key == ('PeakDetails', '0.0.1'):\n",
    "        return 'some_records_file.zstd'\n",
    "    \n",
    "def load_from_cache(filename):\n",
    "    return"
   ]
  },
  {
   "cell_type": "code",
   "execution_count": null,
   "metadata": {},
   "outputs": [],
   "source": [
    "# Load\n",
    "# build task graph\n",
    "# replace dependencies by cache\n",
    "# return result"
   ]
  },
  {
   "cell_type": "code",
   "execution_count": 11,
   "metadata": {},
   "outputs": [
    {
     "data": {
      "text/plain": [
       "<function dask.optimization.cull>"
      ]
     },
     "execution_count": 11,
     "metadata": {},
     "output_type": "execute_result"
    }
   ],
   "source": [
    "import dask\n",
    "dask.optimization.cull"
   ]
  },
  {
   "cell_type": "code",
   "execution_count": 7,
   "metadata": {},
   "outputs": [],
   "source": [
    "##\n",
    "\n",
    "##\n",
    "self_key = ('PeakWidths', '0.1')\n",
    "\n",
    "# Map of direct dependencies for each task\n",
    "\n",
    "\n",
    "tg_new = {}\n",
    "stack = [self_key]\n",
    "while len(stack):\n",
    "    key = stack.pop()\n",
    "    if key in tg_new:\n",
    "        # We already checked this extension\n",
    "        continue\n",
    "        \n",
    "    # Do we have this on ice?\n",
    "    # If so, replace the compute with a load from cache\n",
    "    lineage = tg[key][2]\n",
    "    filename = find_cached_file(key, lineage)\n",
    "    if filename:        \n",
    "        tg_new[key] = (load_from_cache, filename)\n",
    "    else:\n",
    "        tg_new[key] = tg_key[key]\n",
    "        # We have to walk further up the stream and check its dependencies\n",
    "        stack.extend(direct_deps_of[key])\n"
   ]
  },
  {
   "cell_type": "code",
   "execution_count": 8,
   "metadata": {},
   "outputs": [
    {
     "data": {
      "text/plain": [
       "{('PeakDetails', '0.0.1'): (<function __main__.load_from_cache>,\n",
       "  'some_records_file.zstd'),\n",
       " ('PeakWidths',\n",
       "  '0.1'): (<bound method StraxExtension._compute of <strax.ecosystem.PeakWidths object at 0x7ff2c46ba0f0>>, {('PeakDetails',\n",
       "    '0.0.1'),\n",
       "   ('RawRecords', '0.0.1')}, ('some_run',\n",
       "   {('PeakDetails', '0.0.1'), ('RawRecords', '0.0.1')},\n",
       "   ('PeakDetails', '0.0.1')))}"
      ]
     },
     "execution_count": 8,
     "metadata": {},
     "output_type": "execute_result"
    }
   ],
   "source": [
    "tg_new"
   ]
  },
  {
   "cell_type": "code",
   "execution_count": 39,
   "metadata": {},
   "outputs": [
    {
     "data": {
      "text/plain": [
       "{('PeakDetails', '0.0.1'), ('RawRecords', '0.0.1')}"
      ]
     },
     "execution_count": 39,
     "metadata": {},
     "output_type": "execute_result"
    }
   ],
   "source": [
    "\n",
    "\n",
    "lineage(tg, ('PeakWidths', '0.1'))"
   ]
  },
  {
   "cell_type": "code",
   "execution_count": 16,
   "metadata": {},
   "outputs": [
    {
     "name": "stdout",
     "output_type": "stream",
     "text": [
      "('PeakWidths', '0.1') {('PeakDetails', '0.0.1'), ('RawRecords', '0.0.1')}\n",
      "('PeakDetails', '0.0.1') {('RawRecords', '0.0.1')}\n",
      "('RawRecords', '0.0.1') set()\n"
     ]
    }
   ],
   "source": [
    "# TODO: PROVIDING algorithm must be in key!\n",
    "new_tg = dict()\n",
    "for k in list(reversed(dask.core.toposort(tg))):\n",
    "    dep_keys = set(dask.optimize.cull(tg, k)[0].keys())\n",
    "    dep_keys.remove(k)\n",
    "    print(k, dep_keys)\n",
    "    # Look up in db\n",
    "    # If exists, put load from cache in new task graph\n",
    "    # If not exists, keep compute"
   ]
  },
  {
   "cell_type": "code",
   "execution_count": 12,
   "metadata": {},
   "outputs": [],
   "source": [
    "kset.remove?"
   ]
  },
  {
   "cell_type": "code",
   "execution_count": null,
   "metadata": {
    "collapsed": true
   },
   "outputs": [],
   "source": [
    "\n",
    "\n",
    "Hash these, look them up.\n",
    "For all available datasets"
   ]
  },
  {
   "cell_type": "code",
   "execution_count": 11,
   "metadata": {},
   "outputs": [
    {
     "data": {
      "text/plain": [
       "<bound method PeakWidths.compute of <strax.ecosystem.PeakWidths object at 0x0000000007A04D68>>"
      ]
     },
     "execution_count": 11,
     "metadata": {},
     "output_type": "execute_result"
    }
   ],
   "source": [
    "es.PROVIDES['peak_widths'].compute"
   ]
  },
  {
   "cell_type": "code",
   "execution_count": 10,
   "metadata": {},
   "outputs": [
    {
     "data": {
      "text/plain": [
       "{'_compute-2a4dc50f-602e-4396-b115-4a06ff7a7418': (<bound method StraxExtension._compute of <strax.ecosystem.ProcessedData object at 0x0000000007A10080>>,\n",
       "  'some_run',\n",
       "  '_compute-866adb99-1224-48df-99c1-6c87cfa2e5a2'),\n",
       " '_compute-866adb99-1224-48df-99c1-6c87cfa2e5a2': (<bound method StraxExtension._compute of <strax.ecosystem.RawRecords object at 0x0000000007C9CC88>>,\n",
       "  'some_run'),\n",
       " '_compute-fe45645c-25c4-47ee-bd88-ae02d2e07b84': (<bound method StraxExtension._compute of <strax.ecosystem.PeakWidths object at 0x0000000007A04D68>>,\n",
       "  'some_run',\n",
       "  '_compute-2a4dc50f-602e-4396-b115-4a06ff7a7418')}"
      ]
     },
     "execution_count": 10,
     "metadata": {},
     "output_type": "execute_result"
    }
   ],
   "source": [
    "from dask.dot import dot_graph\n",
    "\n",
    "dict(tg.dask)"
   ]
  },
  {
   "cell_type": "code",
   "execution_count": null,
   "metadata": {
    "collapsed": true
   },
   "outputs": [],
   "source": []
  }
 ],
 "metadata": {
  "kernelspec": {
   "display_name": "Python 3",
   "language": "python",
   "name": "python3"
  },
  "language_info": {
   "codemirror_mode": {
    "name": "ipython",
    "version": 3
   },
   "file_extension": ".py",
   "mimetype": "text/x-python",
   "name": "python",
   "nbconvert_exporter": "python",
   "pygments_lexer": "ipython3",
   "version": "3.6.4"
  },
  "toc": {
   "nav_menu": {},
   "number_sections": true,
   "sideBar": true,
   "skip_h1_title": false,
   "toc_cell": false,
   "toc_position": {},
   "toc_section_display": "block",
   "toc_window_display": false
  }
 },
 "nbformat": 4,
 "nbformat_minor": 2
}
