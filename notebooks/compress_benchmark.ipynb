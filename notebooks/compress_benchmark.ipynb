{
 "cells": [
  {
   "cell_type": "code",
   "execution_count": null,
   "metadata": {},
   "outputs": [],
   "source": [
    "import numpy as np\n",
    "import pandas as pd\n",
    "\n",
    "import matplotlib\n",
    "import matplotlib.pyplot as plt\n",
    "%matplotlib inline\n",
    "\n",
    "import strax\n",
    "# ADC->PE conversions for XENON1T\n",
    "to_pe = 1e-3 * np.array([7.05, 0.0, 0.0, 8.09, 4.38, 7.87, 3.58, 7.5, 7.44, 4.82, 7.07, 5.79,  0.0, 5.55, 7.95, 7.02, 6.39, 8.1, 7.15, 7.43, 7.15, 11.4, 3.97, 7.28,  5.41, 7.4, 0.0, 0.0, 7.04, 7.27, 4.22, 16.79, 4.14, 7.04, 0.0, 5.38,  7.39, 7.02, 4.53, 5.17, 7.13, 5.48, 4.6, 7.33, 6.14, 6.52, 7.59,  4.76, 7.56, 7.54, 4.57, 4.6, 7.12, 8.0, 4.7, 8.68, 3.74, 4.97, 10.36,  7.53, 6.02, 12.45, 0.0, 4.49, 4.82, 0.0, 8.13, 7.27, 3.55, 5.65,  4.55, 8.64, 7.97, 0.0, 3.57, 3.69, 5.87, 5.12, 9.8, 0.0, 5.08, 4.09,  3.87, 8.17, 6.73, 9.03, 0.0, 6.93, 0.0, 6.52, 7.39, 0.0, 4.92, 7.48,  5.82, 4.05, 3.9, 5.77, 8.14, 7.62, 7.61, 5.55, 0.0, 7.12, 5.02, 4.57,  4.46, 7.44, 3.57, 7.58, 7.16, 7.33, 7.69, 6.03, 5.87, 9.64, 4.68,  7.88, 0.0, 10.84, 7.0, 3.62, 7.5, 7.45, 7.69, 7.69, 3.49, 3.61, 7.44,  6.38, 0.0, 5.1, 3.72, 5.22, 0.0, 0.0, 4.43, 0.0, 3.87, 0.0, 3.6,  5.35, 8.4, 5.1, 6.45, 5.07, 4.28, 3.5, 0.0, 7.28, 0.0, 4.25, 0.0,  4.72, 6.26, 7.28, 5.34, 7.55, 3.85, 5.54, 7.5, 7.31, 0.0, 7.76, 7.57,  6.66, 7.29, 0.0, 7.59, 3.8, 3.58, 5.21, 4.29, 7.36, 7.76, 4.0, 6.23,  5.86, 0.0, 7.34, 3.58, 3.57, 5.26, 0.0, 7.67, 4.05, 4.3, 4.21, 7.59,  7.59, 0.0, 6.41, 4.86, 3.73, 5.09, 7.59, 7.64, 7.7, 0.0, 5.25, 8.0,  5.32, 7.91, 0.0, 4.41, 11.82, 0.0, 4.51, 7.05, 8.63, 5.12, 4.45,  4.03, 0.0, 0.0, 3.54, 4.18, 9.5, 3.64, 3.67, 7.28, 3.59, 5.03, 3.6,  5.4, 7.18, 3.73, 6.21, 6.47, 3.7, 7.69, 4.58, 7.46, 6.74, 0.0, 3.66,  7.49, 7.55, 3.64, 0.0, 7.34, 4.06, 3.74, 3.97, 0.0, 4.29, 4.96, 3.77,  8.57, 8.57, 8.57, 8.57, 8.57, 8.57, 214.29, 171.43, 171.43, 171.43,  171.43, 171.43])"
   ]
  },
  {
   "cell_type": "code",
   "execution_count": null,
   "metadata": {},
   "outputs": [],
   "source": [
    "source_fn = 'test_records_uncomp'\n",
    "# Measured with pax a few weeks ago, probably on laptop?\n",
    "zlib_pickles_reduction = (684e6 * 0.183) /300e6 \n",
    "zlib_pickles_time = 121 * 0.183"
   ]
  },
  {
   "cell_type": "markdown",
   "metadata": {},
   "source": [
    "# Make data at various reduction levels"
   ]
  },
  {
   "cell_type": "markdown",
   "metadata": {},
   "source": [
    "No reduction"
   ]
  },
  {
   "cell_type": "code",
   "execution_count": null,
   "metadata": {},
   "outputs": [],
   "source": [
    "records_raw = strax.load(source_fn)\n",
    "orig_size_MB = records_raw.nbytes/1e6"
   ]
  },
  {
   "cell_type": "markdown",
   "metadata": {},
   "source": [
    "Baselines at start and end of pulse cut"
   ]
  },
  {
   "cell_type": "code",
   "execution_count": null,
   "metadata": {},
   "outputs": [],
   "source": [
    "r = strax.load(source_fn)\n",
    "r = strax.sort_by_time(r)\n",
    "strax.baseline(r)\n",
    "strax.cut_baseline(r)\n",
    "records_cut_bl = r.copy()"
   ]
  },
  {
   "cell_type": "markdown",
   "metadata": {},
   "source": [
    "Keep only waveforms of hits"
   ]
  },
  {
   "cell_type": "code",
   "execution_count": null,
   "metadata": {},
   "outputs": [],
   "source": [
    "r = strax.load(source_fn)\n",
    "r = strax.sort_by_time(r)\n",
    "strax.baseline(r)\n",
    "strax.integrate(r)\n",
    "hits = strax.find_hits(r)\n",
    "strax.cut_outside_hits(r, hits)\n",
    "records_cut_hits = r.copy()"
   ]
  },
  {
   "cell_type": "markdown",
   "metadata": {},
   "source": [
    "As above, and 10 ms (but stupid) single electron tail cut"
   ]
  },
  {
   "cell_type": "code",
   "execution_count": null,
   "metadata": {},
   "outputs": [],
   "source": [
    "r = strax.load(source_fn)\n",
    "r = strax.sort_by_time(r)\n",
    "strax.baseline(r)\n",
    "strax.integrate(r)\n",
    "r = strax.exclude_tails(r, to_pe)\n",
    "hits = strax.find_hits(r)\n",
    "strax.cut_outside_hits(r, hits)\n",
    "records_cut_tails = r.copy()"
   ]
  },
  {
   "cell_type": "code",
   "execution_count": null,
   "metadata": {},
   "outputs": [],
   "source": [
    "data = dict(raw=records_raw,\n",
    "            baseline_cut=records_cut_bl,\n",
    "            hits_only=records_cut_hits,\n",
    "            tail_cut=records_cut_tails)"
   ]
  },
  {
   "cell_type": "markdown",
   "metadata": {},
   "source": [
    "## Benchmark compressions"
   ]
  },
  {
   "cell_type": "code",
   "execution_count": null,
   "metadata": {},
   "outputs": [],
   "source": [
    "from time import time\n",
    "import os\n",
    "from functools import partial\n",
    "\n",
    "# Add suboptimal compressors, to really show they are suboptimal\n",
    "import snappy\n",
    "import zlib\n",
    "strax.io.COMPRESSORS.update(dict(\n",
    "    # zlib 4 matches level used in eventbuiler\n",
    "    zlib=dict(compress=partial(zlib.compress, level=4), decompress=zlib.decompress),\n",
    "    snappy=dict(compress=partial(snappy.compress), decompress=snappy.decompress),\n",
    "))\n",
    "\n",
    "results = []\n",
    "\n",
    "# TODO n_trials\n",
    "for condition, d in data.items():\n",
    "    print(\"\\n\", condition)\n",
    "\n",
    "    for compressor in ['none'] + list(strax.io.COMPRESSORS.keys()):\n",
    "        print(compressor)\n",
    "        fn = f'test_{compressor}'\n",
    "        strax.save(fn, d, compressor=compressor)\n",
    "        t0 = time()\n",
    "        strax.load(fn)\n",
    "        t1 = time()\n",
    "\n",
    "        r = dict(compressor=compressor, condition=condition)\n",
    "        r['load_speed'] = orig_size_MB / (t1 - t0)\n",
    "        new_size = os.path.getsize(strax.io._fn(fn, compressor)) / 1e6\n",
    "        r['size_ratio'] =  new_size  / orig_size_MB\n",
    "        results.append(r)\n",
    "        \n",
    "        strax.delete(fn)\n",
    "        \n",
    "results = pd.DataFrame(results)"
   ]
  },
  {
   "cell_type": "code",
   "execution_count": null,
   "metadata": {
    "scrolled": true
   },
   "outputs": [],
   "source": [
    "ann_font = dict(fontsize=8, horizontalalignment='center')\n",
    "\n",
    "for condition in data.keys():\n",
    "    if condition == 'hits_only':\n",
    "        continue\n",
    "    d = results[results['condition'] == condition]\n",
    "    x = 100 * d['size_ratio'].values\n",
    "    y = d['load_speed'].values\n",
    "    plt.scatter(x, y, label=condition, alpha=0.6)\n",
    "    for i, (_, q) in enumerate(d.iterrows()):\n",
    "        label = dict(none='Raw').get(q['compressor'], q['compressor'])\n",
    "        plt.annotate(label, (x[i], y[i]),\n",
    "                     **ann_font)\n",
    "\n",
    "pax = (100 * zlib_pickles_reduction, 300/zlib_pickles_time*2)    # *2 since save + load\n",
    "plt.scatter([pax[0]], pax[1], marker='*', c='firebrick')\n",
    "plt.annotate('Pax\\nraw', pax, verticalalignment='center', **ann_font)\n",
    "        \n",
    "plt.ylabel(\"Reading speed (MB raw/s/core)\")\n",
    "plt.xlabel(\"File size (% of raw)\")\n",
    "plt.yscale('log')\n",
    "plt.ylim(5, None)\n",
    "plt.grid(alpha=0.2, which='both')\n",
    "\n",
    "plt.xscale('log')\n",
    "plt.legend(loc='lower left')\n",
    "plt.xlim(3, 107)\n",
    "\n",
    "ax = plt.gca()\n",
    "for axis in [ax.xaxis]:    \n",
    "    axis.set_major_formatter(matplotlib.ticker.FormatStrFormatter('%g'))\n",
    "    axis.set_minor_formatter(matplotlib.ticker.FormatStrFormatter('%g'))\n",
    "\n",
    "plt.tight_layout()\n",
    "plt.savefig('compress_benchmark.pdf')"
   ]
  }
 ],
 "metadata": {
  "kernelspec": {
   "display_name": "Python 3",
   "language": "python",
   "name": "python3"
  },
  "language_info": {
   "codemirror_mode": {
    "name": "ipython",
    "version": 3
   },
   "file_extension": ".py",
   "mimetype": "text/x-python",
   "name": "python",
   "nbconvert_exporter": "python",
   "pygments_lexer": "ipython3",
   "version": "3.6.4"
  },
  "toc": {
   "nav_menu": {},
   "number_sections": true,
   "sideBar": true,
   "skip_h1_title": false,
   "toc_cell": false,
   "toc_position": {},
   "toc_section_display": "block",
   "toc_window_display": false
  }
 },
 "nbformat": 4,
 "nbformat_minor": 2
}
