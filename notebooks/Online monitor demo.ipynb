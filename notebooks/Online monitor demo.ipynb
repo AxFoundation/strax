{
 "cells": [
  {
   "cell_type": "markdown",
   "metadata": {},
   "source": [
    "# Online monitor example"
   ]
  },
  {
   "cell_type": "markdown",
   "metadata": {},
   "source": [
    "Jelle, May 2018\n",
    "\n",
    "This notebooks shows a basic (cS1, cS2) plot that updates while the DAQ data is incoming. To run it, first start\n",
    "  * `python fake_daq.py`\n",
    "  * `python eb.py --mongo`\n",
    "(each in a separate terminal).\n",
    "\n",
    "At the moment you can only start the plot *after* eb.py has put in a chunk of events; you'll get an error otherwise. "
   ]
  },
  {
   "cell_type": "code",
   "execution_count": null,
   "metadata": {},
   "outputs": [],
   "source": [
    "import time\n",
    "import itertools\n",
    "\n",
    "import matplotlib.pyplot as plt\n",
    "import strax"
   ]
  },
  {
   "cell_type": "code",
   "execution_count": null,
   "metadata": {},
   "outputs": [],
   "source": [
    "st = strax.Context(register_all=strax.xenon.plugins,\n",
    "                   storage=strax.MongoStore('mongodb://localhost'))\n",
    "\n",
    "run_id = '180423_1021'"
   ]
  },
  {
   "cell_type": "code",
   "execution_count": null,
   "metadata": {
    "scrolled": false
   },
   "outputs": [],
   "source": [
    "%matplotlib notebook\n",
    "\n",
    "max_delay = 30 * 1e9\n",
    "\n",
    "for i in itertools.count():\n",
    "    # Get all events from mongo\n",
    "    df = st.get_df(run_id, ['event_basics', 'events'])\n",
    "    \n",
    "    # Select recent events\n",
    "    now = time.time()\n",
    "    df['delay'] = int(now) * int(1e9) - df['time']\n",
    "    df = df[df['delay'] < int(max_delay)]\n",
    "\n",
    "    # Update the plot\n",
    "    plt.gca().clear()\n",
    "    \n",
    "    plt.scatter(df.s1_area, df.s2_area,\n",
    "                c=df.s1_area_fraction_top,\n",
    "                vmin=0, vmax=0.3,\n",
    "                s=100 * (max_delay - df.delay)/max_delay,\n",
    "                cmap=plt.cm.jet,\n",
    "                marker='.', edgecolors='none')\n",
    "    if i == 0:\n",
    "        plt.colorbar(label=\"S1 area fraction top\", extend='max')\n",
    "    plt.xlabel('S1 (PE)')\n",
    "    plt.ylabel('S2 (PE)')\n",
    "    plt.xscale('symlog')\n",
    "    plt.yscale('log')\n",
    "    plt.ylim(1e2, 1e7)\n",
    "    plt.xlim(-0.1, 1e6)\n",
    "    plt.title(time.strftime('%H:%M:%S'))\n",
    "    \n",
    "    plt.gcf().canvas.draw()\n",
    "    \n",
    "    # Sleep 4x as long as it took to make the plot\n",
    "    time.sleep(4 * (time.time() - now))\n",
    "    "
   ]
  }
 ],
 "metadata": {
  "kernelspec": {
   "display_name": "Python 3",
   "language": "python",
   "name": "python3"
  }
 },
 "nbformat": 4,
 "nbformat_minor": 2
}
