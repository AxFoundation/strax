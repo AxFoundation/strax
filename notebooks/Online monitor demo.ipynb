{
 "cells": [
  {
   "cell_type": "markdown",
   "metadata": {},
   "source": [
    "# Online monitor example"
   ]
  },
  {
   "cell_type": "markdown",
   "metadata": {},
   "source": [
    "Jelle, September 2018\n",
    "\n",
    "This notebook contains the demos I showed during my [collaboration meeting talk in Coimbra](https://docs.google.com/presentation/d/1W7H5x2JeBb7JcgKXN6POF-YTqO7jSa7rNX_v6rWCpTo).\n",
    "\n",
    "The first plot shows a basic (cS1, cS2) plot that updates while the DAQ data is incoming. To run it, first start\n",
    "  * `python fake_daq.py --realtime`\n",
    "  * `python eb.py --norechunk`\n",
    "(each in a separate terminal). At the moment you can only start the plot *after* eb.py has put in a chunk of events; you'll get an error otherwise. \n",
    "\n",
    "The second series of plots uses a full XENON11T background run, which you can find on `/dali/lgrandi/aalbers/strax_data`. \n",
    "\n",
    "The final demo shows waveform inspection, and requires finished raw data for a dataset. The easiest way to obtain some is to run the eventbuilding-process described above, then rename `from_eb` to `from_eb_finished`."
   ]
  },
  {
   "cell_type": "markdown",
   "metadata": {},
   "source": [
    "# Setup"
   ]
  },
  {
   "cell_type": "code",
   "execution_count": null,
   "metadata": {},
   "outputs": [],
   "source": [
    "import plots\n",
    "import strax\n",
    "st = strax.Context(register_all=strax.xenon.plugins,\n",
    "                   storage=strax.DataDirectory('./from_eb'),\n",
    "                   allow_incomplete=True)\n",
    "st.log.setLevel('ERROR')\n",
    "\n",
    "run_id = '180423_1021'"
   ]
  },
  {
   "cell_type": "markdown",
   "metadata": {},
   "source": [
    "# Online full processing"
   ]
  },
  {
   "cell_type": "code",
   "execution_count": null,
   "metadata": {
    "scrolled": false
   },
   "outputs": [],
   "source": [
    "%matplotlib notebook\n",
    "\n",
    "for i in range(10000):\n",
    "    df = st.get_df(run_id, 'event_info')\n",
    "    plots.event_scatter(df, update=i != 0, time_cut=True, sleep_factor=1)"
   ]
  },
  {
   "cell_type": "markdown",
   "metadata": {},
   "source": [
    "### More setup"
   ]
  },
  {
   "cell_type": "code",
   "execution_count": null,
   "metadata": {},
   "outputs": [],
   "source": [
    "%matplotlib inline\n",
    "st = st.new_context(register=strax.xenon.pax_interface.RecordsFromPax,\n",
    "                    allow_incomplete=False)\n",
    "st.storage = [strax.DataDirectory('/home/jelle/strax_data', readonly=True),\n",
    "              strax.DataDirectory('./strax_data')]\n",
    "run_id = '170621_0617'"
   ]
  },
  {
   "cell_type": "markdown",
   "metadata": {},
   "source": [
    "# Quick parameter exploration"
   ]
  },
  {
   "cell_type": "code",
   "execution_count": null,
   "metadata": {},
   "outputs": [],
   "source": [
    "df = st.get_df(run_id, 'event_info',\n",
    "               config=dict(s1_max_width=2000))\n",
    "plots.event_scatter(df)"
   ]
  },
  {
   "cell_type": "code",
   "execution_count": null,
   "metadata": {},
   "outputs": [],
   "source": [
    "df = st.get_df(run_id, 'event_info',\n",
    "               config=dict(trigger_min_area=10))\n",
    "\n",
    "plots.event_scatter(df)"
   ]
  },
  {
   "cell_type": "markdown",
   "metadata": {},
   "source": [
    "# Trigerless data"
   ]
  },
  {
   "cell_type": "code",
   "execution_count": null,
   "metadata": {},
   "outputs": [],
   "source": [
    "st = strax.Context(register_all=strax.xenon.plugins,\n",
    "                   storage=strax.DataDirectory('./from_eb_finished'),\n",
    "                   allow_incomplete=True)"
   ]
  },
  {
   "cell_type": "code",
   "execution_count": null,
   "metadata": {},
   "outputs": [],
   "source": [
    "import plots\n",
    "plots.show_time_range(st, '180423_1021', 1536243210000001040)"
   ]
  }
 ],
 "metadata": {
  "kernelspec": {
   "display_name": "Python 3",
   "language": "python",
   "name": "python3"
  },
  "language_info": {
   "codemirror_mode": {
    "name": "ipython",
    "version": 3
   },
   "file_extension": ".py",
   "mimetype": "text/x-python",
   "name": "python",
   "nbconvert_exporter": "python",
   "pygments_lexer": "ipython3",
   "version": "3.6.5"
  }
 },
 "nbformat": 4,
 "nbformat_minor": 2
}
