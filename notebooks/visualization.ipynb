{
 "cells": [
  {
   "cell_type": "markdown",
   "metadata": {},
   "source": [
    "# Setup"
   ]
  },
  {
   "cell_type": "code",
   "execution_count": null,
   "metadata": {},
   "outputs": [],
   "source": [
    "import numpy as np\n",
    "import pandas as pd\n",
    "\n",
    "import holoviews as hv\n",
    "import datashader\n",
    "from holoviews.operation.datashader import aggregate, shade, datashade, dynspread\n",
    "from holoviews.operation import decimate\n",
    "hv.extension('bokeh')\n",
    "\n",
    "import strax\n",
    "\n",
    "import gc\n",
    "real_gc_collect = gc.collect\n",
    "\n",
    "# Somebody thought it was a good idea to call gc.collect explicitly somewhere in holoviews\n",
    "# This makes dynamic PMT maps super slow\n",
    "# Until I trace the offender:\n",
    "gc.collect = lambda : None\n",
    "\n",
    "# Custom wheel zoom tool that only zooms in time\n",
    "from bokeh.models import WheelZoomTool\n",
    "time_zoom = WheelZoomTool(dimensions='width')"
   ]
  },
  {
   "cell_type": "code",
   "execution_count": null,
   "metadata": {
    "collapsed": true
   },
   "outputs": [],
   "source": [
    "# Get ADC->pe multiplicative conversion factor\n",
    "from pax.configuration import load_configuration\n",
    "from pax.dsputils import adc_to_pe\n",
    "pax_config = load_configuration('XENON1T')[\"DEFAULT\"]\n",
    "to_pe = np.array([adc_to_pe(pax_config, ch) \n",
    "                  for ch in range(pax_config['n_channels'])])\n",
    "\n",
    "tpc_r = pax_config['tpc_radius']\n",
    "\n",
    "# Get locations of PMTs\n",
    "r = []\n",
    "for q in pax_config['pmts']:\n",
    "    r.append(dict(x=q['position']['x'],\n",
    "                  y=q['position']['y'],\n",
    "                  i=q['pmt_position'],\n",
    "                  array=q.get('array', 'other')))\n",
    "f = 1.08\n",
    "pmt_locs = pd.DataFrame(r)\n",
    "n_top = len(pax_config['channels_top'])"
   ]
  },
  {
   "cell_type": "markdown",
   "metadata": {},
   "source": [
    "# Data loading"
   ]
  },
  {
   "cell_type": "code",
   "execution_count": null,
   "metadata": {},
   "outputs": [],
   "source": [
    "records = strax.load('test_records_reduced')\n",
    "hits = strax.find_hits(records)\n",
    "peaks = strax.find_peaks(hits, to_pe, gap_threshold=300, min_hits=3)\n",
    "strax.sum_waveform(peaks, records, to_pe)\n",
    "print(len(records), len(hits), len(peaks))"
   ]
  },
  {
   "cell_type": "markdown",
   "metadata": {},
   "source": [
    "## Basic stats"
   ]
  },
  {
   "cell_type": "code",
   "execution_count": null,
   "metadata": {},
   "outputs": [],
   "source": [
    "# Fraction of records representing an entire pulse\n",
    "(records['pulse_length'] < 110).sum() / len(records)"
   ]
  },
  {
   "cell_type": "code",
   "execution_count": null,
   "metadata": {},
   "outputs": [],
   "source": [
    "# Fraction of records in the most frequent channel\n",
    "np.histogram(records['channel'], \n",
    "             bins=np.arange(0, 260) - 0.5)[0].max() / len(records)"
   ]
  },
  {
   "cell_type": "code",
   "execution_count": null,
   "metadata": {
    "collapsed": true
   },
   "outputs": [],
   "source": [
    "# Integral in pe\n",
    "areas = records['data'].sum(axis=1) * to_pe[records['channel']]"
   ]
  },
  {
   "cell_type": "code",
   "execution_count": null,
   "metadata": {},
   "outputs": [],
   "source": [
    "areas.max()"
   ]
  },
  {
   "cell_type": "markdown",
   "metadata": {
    "heading_collapsed": true
   },
   "source": [
    "## Records to holoviews"
   ]
  },
  {
   "cell_type": "code",
   "execution_count": null,
   "metadata": {
    "collapsed": true,
    "hidden": true
   },
   "outputs": [],
   "source": [
    "def normalize_time(t):\n",
    "    return (t - records[0]['time']) / 1e9\n",
    "\n",
    "# Create dataframe with record metadata\n",
    "df = pd.DataFrame(dict(area=areas,\n",
    "                       time=normalize_time(records['time']), \n",
    "                       channel=records['channel']))\n",
    "\n",
    "# Convert to holoviews Points\n",
    "points = hv.Points(df, \n",
    "                   kdims=[hv.Dimension('time', label='Time', unit='sec'),\n",
    "                          hv.Dimension('channel', label='PMT number', range=(0, 260))], \n",
    "                   vdims=[hv.Dimension('area', label='Area', unit='pe', \n",
    "                                       #range=(0, 1000)\n",
    "                                      )])"
   ]
  },
  {
   "cell_type": "markdown",
   "metadata": {},
   "source": [
    "# Plots"
   ]
  },
  {
   "cell_type": "markdown",
   "metadata": {},
   "source": [
    "## PMT pattern"
   ]
  },
  {
   "cell_type": "code",
   "execution_count": null,
   "metadata": {
    "collapsed": true
   },
   "outputs": [],
   "source": [
    "%opts Points.PMTPattern [color_index=2 tools=['hover'] show_grid=False] (size=17, cmap='magma')\n",
    "\n",
    "def pattern_plot(array, areas):\n",
    "    mask = pmt_locs['array'] == array\n",
    "    d = pmt_locs[mask].copy()\n",
    "    d['area'] = areas[mask]\n",
    "\n",
    "def pattern_between(t_0, t_1):\n",
    "    \"\"\"Return PMT pattern between time t_0 and t_1\"\"\"\n",
    "\n",
    "    return areas\n",
    "\n",
    "def pmt_map(t_0, t_1, array='top', **kwargs):\n",
    "    # Compute the PMT pattern (fast)\n",
    "    ps = points[(t_0 <= points['time']) \n",
    "                & (points['time'] < t_1)]\n",
    "    areas = np.bincount(ps['channel'],\n",
    "                        weights=ps['area'],\n",
    "                        minlength=len(pmt_locs))\n",
    "    \n",
    "    # Which PMTs should we include?\n",
    "    pmt_mask = pmt_locs['array'] == array\n",
    "    d = pmt_locs[pmt_mask].copy()\n",
    "    d['area'] = areas[pmt_mask]\n",
    "    \n",
    "    # Convert to holoviews points\n",
    "    d = hv.Dataset(d,  \n",
    "                   kdims=[hv.Dimension('x', unit='cm', range=(-tpc_r * f, tpc_r * f)),\n",
    "                          hv.Dimension('y', unit='cm', range=(-tpc_r * f, tpc_r * f)),\n",
    "                          hv.Dimension('i', label='PMT number'),\n",
    "                          hv.Dimension('area', \n",
    "                                       label='Area', \n",
    "                                       unit='PE')])\n",
    "\n",
    "    return d.to(hv.Points, \n",
    "                vdims=['area', 'i'],\n",
    "                group='PMTPattern', \n",
    "                label=array.capitalize(),\n",
    "                **kwargs)\n",
    "\n",
    "def pmt_map_range(x_range, array='top', **kwargs):\n",
    "    # For use in dynamicmap with streams\n",
    "    if x_range is None:\n",
    "        x_range = (0, 0)\n",
    "    return pmt_map(x_range[0], x_range[1], array=array, **kwargs)"
   ]
  },
  {
   "cell_type": "code",
   "execution_count": null,
   "metadata": {},
   "outputs": [],
   "source": [
    "hv.DynamicMap(pmt_map, kdims=['t_0', 't_1']).redim.range(t_0=(0., 1.), t_1=(0.1, 10.))"
   ]
  },
  {
   "cell_type": "markdown",
   "metadata": {},
   "source": [
    "### Old selection stuff?"
   ]
  },
  {
   "cell_type": "code",
   "execution_count": null,
   "metadata": {
    "collapsed": true
   },
   "outputs": [],
   "source": [
    "\"\"\"\n",
    "%%opts QuadMesh [width=n_bins_t height=400 tools=['xbox_select']] (alpha=0 hover_line_alpha=1 hover_fill_alpha=0)\n",
    "\n",
    "def selected_pmt_area(index):\n",
    "    # NB: If you make exceptions in these callbacks, you get nothing!    \n",
    "    # You also can't print anything. What kind of ghostly process is this running in??\n",
    "    \n",
    "    selected_bins = index\n",
    "    # Get displayed time range\n",
    "    if xyrange.x_range is None:\n",
    "        t_0 = times[0]\n",
    "        t_1 = times[-1]\n",
    "    else:\n",
    "        t_0 = xyrange.x_range[0]\n",
    "        t_1 = xyrange.x_range[1]\n",
    "    t_range = t_1 - t_0\n",
    "\n",
    "    if len(selected_bins):\n",
    "        tsel_0 = t_0 + selected_bins[0] * t_range/n_bins_t\n",
    "        tsel_1 = t_0 + selected_bins[-1] * t_range/n_bins_t\n",
    "\n",
    "        #return pmt_maps(tsel_0, tsel_1)\n",
    "    \n",
    "    return pmt_maps(t_0, t_1)\n",
    "\n",
    "selection = hv.streams.Selection1D(source=points)  \n",
    "\n",
    "quadmesh_helper = aggregate(points, width=40, height=20, \n",
    "                            streams=[xyrange, selection]).map(hv.QuadMesh, hv.Image)\n",
    "                            \n",
    "                            \n",
    "tools=[wzt, 'xbox_select']\n",
    "\"\"\";"
   ]
  },
  {
   "cell_type": "markdown",
   "metadata": {},
   "source": [
    "## PMT vs time pulse map"
   ]
  },
  {
   "cell_type": "code",
   "execution_count": null,
   "metadata": {
    "collapsed": true
   },
   "outputs": [],
   "source": [
    "\n",
    "xrange_stream = hv.streams.RangeX(source=points)\n",
    "# TODO: weigh by area\n",
    "\n",
    "def channel_map():\n",
    "    return dynspread(datashade(points, \n",
    "                               y_range=(0, 260), \n",
    "                               streams=[xrange_stream])).opts(\n",
    "        plot=dict(width=600, \n",
    "                  tools=[time_zoom, 'xpan'], \n",
    "                  default_tools=['save', 'pan', 'box_zoom', 'save', 'reset'],\n",
    "                  show_grid=False))"
   ]
  },
  {
   "cell_type": "code",
   "execution_count": null,
   "metadata": {
    "collapsed": true
   },
   "outputs": [],
   "source": [
    "# channel_map()"
   ]
  },
  {
   "cell_type": "markdown",
   "metadata": {},
   "source": [
    "## Pulse-level sum waveform"
   ]
  },
  {
   "cell_type": "code",
   "execution_count": null,
   "metadata": {
    "collapsed": true
   },
   "outputs": [],
   "source": [
    "def pulse_level_waveform():\n",
    "    # Datashader doesn't do 1d histograms. \n",
    "    # It can compute a 2d histogram and then sum it though...\n",
    "    # See https://github.com/bokeh/datashader/issues/225\n",
    "    agg = aggregate(points, \n",
    "                    aggregator=datashader.sum('area'), \n",
    "                    streams=[xrange_stream], \n",
    "                    x_sampling=1e-8, \n",
    "                    height=2)\n",
    "    waveform = agg.map(lambda x: x.reduce(channel=np.sum), hv.Image)\n",
    "    return waveform.opts(\n",
    "        plot=dict(width=600, \n",
    "                  tools=[time_zoom, 'xpan'], \n",
    "                  show_grid=True, \n",
    "                  default_tools=['save', 'pan', 'box_zoom', 'save', 'reset']),\n",
    "        norm=dict(framewise=True))\n",
    "\n",
    "# pulse_level_waveform()"
   ]
  },
  {
   "cell_type": "markdown",
   "metadata": {},
   "source": [
    "## Peak sum waveform"
   ]
  },
  {
   "cell_type": "code",
   "execution_count": null,
   "metadata": {},
   "outputs": [],
   "source": [
    "np.argsort(np.arange(30))[-10]"
   ]
  },
  {
   "cell_type": "code",
   "execution_count": null,
   "metadata": {},
   "outputs": [],
   "source": []
  },
  {
   "cell_type": "code",
   "execution_count": null,
   "metadata": {
    "collapsed": true
   },
   "outputs": [],
   "source": [
    "def plot_peak(p):\n",
    "    y = p['data'][:p['length']]\n",
    "    t = normalize_time(np.arange(p['length'], dtype=np.int64) * p['dt'] + p['time'])\n",
    "    c = hv.Curve(dict(time=t, y=y), kdims=points.kdims[0], group='PeakSumWaveform')\n",
    "    return c.opts(plot=dict(interpolation='steps-mid',\n",
    "                            #default_tools=['save', 'pan', 'box_zoom', 'save', 'reset'],\n",
    "                            #tools=[time_zoom, 'xpan'],\n",
    "                            width=600,\n",
    "                            shared_axes=False,\n",
    "                            show_grid=True),\n",
    "                  style=dict(color='b')\n",
    "                  #norm=dict(framewise=True)\n",
    "                 )\n",
    "\n",
    "def plot_peaks(t_0, t_1, n_max=10):\n",
    "    # Find peaks in this range\n",
    "    ps = peaks[(normalize_time(peaks['time'] + peaks['length'] * peaks['dt']) > t_0)\n",
    "               & (normalize_time(peaks['time']) < t_1)]\n",
    "    print(len(ps))\n",
    "    # Show only the largest n_max peaks\n",
    "    if len(ps) > n_max:\n",
    "        areas = ps['area']\n",
    "        max_area = np.sort(areas)[-n_max]\n",
    "        ps = ps[areas >= max_area]\n",
    "        \n",
    "    print(len(ps))\n",
    "    \n",
    "    return hv.Overlay(items=[plot_peak(p) for p in ps])\n",
    "\n",
    "\n",
    "def plot_peak_range(x_range, **kwargs):\n",
    "    # For use in dynamicmap with streams\n",
    "    if x_range is None:\n",
    "        x_range = (0, 10)\n",
    "    return plot_peaks(x_range[0], x_range[1], **kwargs)"
   ]
  },
  {
   "cell_type": "code",
   "execution_count": null,
   "metadata": {
    "collapsed": true
   },
   "outputs": [],
   "source": [
    "#hv.DynamicMap(plot_peaks, kdims=['t_0', 't_1']).redim.range(t_0=(0., 10.), t_1=(1, 10.))"
   ]
  },
  {
   "cell_type": "markdown",
   "metadata": {},
   "source": [
    "# Combine"
   ]
  },
  {
   "cell_type": "code",
   "execution_count": null,
   "metadata": {
    "collapsed": true
   },
   "outputs": [],
   "source": [
    "from functools import partial"
   ]
  },
  {
   "cell_type": "code",
   "execution_count": null,
   "metadata": {},
   "outputs": [],
   "source": [
    "# %%opts Curve.PeakSumWaveform (color='b') {+framewise}\n",
    "top_map = hv.DynamicMap(partial(pmt_map_range, array='top'), streams=[xrange_stream])\n",
    "bot_map = hv.DynamicMap(partial(pmt_map_range, array='bottom'), streams=[xrange_stream])\n",
    "#waveform = \n",
    "waveform = hv.DynamicMap(plot_peak_range, streams=[xrange_stream]) #* pulse_level_waveform()\n",
    "layout = waveform + top_map + channel_map() + bot_map\n",
    "layout.cols(2)"
   ]
  },
  {
   "cell_type": "markdown",
   "metadata": {},
   "source": [
    "# OLd stuff"
   ]
  },
  {
   "cell_type": "code",
   "execution_count": null,
   "metadata": {
    "collapsed": true
   },
   "outputs": [],
   "source": [
    "# Time visible in a single window\n",
    "t_window = 0.1\n",
    "\n",
    "# Speed of the visualization\n",
    "fps = 20\n",
    "speed = 0.1\n",
    "\n",
    "t_max = (records['time'][-1] - records['time'][0])/1e9\n",
    "dt = speed/fps    # Time shift per frame\n",
    "n_frames = int((t_max - t_window) / dt)   # Number of frames needed\n",
    "\n",
    "\n",
    "waveform.periodic(1/fps, count=n_frames, \n",
    "                  param_fn=lambda i: dict(x_range=(i * dt, t_window + i * dt)),\n",
    "                  timeout=60);"
   ]
  },
  {
   "cell_type": "markdown",
   "metadata": {},
   "source": [
    "TODO: Link color scales!"
   ]
  },
  {
   "cell_type": "code",
   "execution_count": null,
   "metadata": {
    "collapsed": true
   },
   "outputs": [],
   "source": []
  }
 ],
 "metadata": {
  "anaconda-cloud": {},
  "kernelspec": {
   "display_name": "Python [default]",
   "language": "python",
   "name": "python3"
  },
  "language_info": {
   "codemirror_mode": {
    "name": "ipython",
    "version": 3
   },
   "file_extension": ".py",
   "mimetype": "text/x-python",
   "name": "python",
   "nbconvert_exporter": "python",
   "pygments_lexer": "ipython3",
   "version": "3.6.2"
  },
  "toc": {
   "nav_menu": {},
   "number_sections": true,
   "sideBar": true,
   "skip_h1_title": false,
   "toc_cell": false,
   "toc_position": {},
   "toc_section_display": "block",
   "toc_window_display": false
  }
 },
 "nbformat": 4,
 "nbformat_minor": 2
}
