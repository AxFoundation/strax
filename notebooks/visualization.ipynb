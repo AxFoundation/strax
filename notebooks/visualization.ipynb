{
 "cells": [
  {
   "cell_type": "code",
   "execution_count": null,
   "metadata": {
    "collapsed": true
   },
   "outputs": [],
   "source": [
    "import numpy as np\n",
    "import pandas as pd\n",
    "\n",
    "import holoviews as hv\n",
    "import datashader\n",
    "from holoviews.operation.datashader import aggregate, shade, datashade, dynspread\n",
    "from holoviews.operation import decimate\n",
    "\n",
    "import strax\n",
    "\n",
    "import gc\n",
    "real_gc_collect = gc.collect"
   ]
  },
  {
   "cell_type": "code",
   "execution_count": null,
   "metadata": {
    "collapsed": true
   },
   "outputs": [],
   "source": [
    "# Get ADC->pe multiplicative conversion factor\n",
    "from pax.configuration import load_configuration\n",
    "from pax.dsputils import adc_to_pe\n",
    "pax_config = load_configuration('XENON1T')[\"DEFAULT\"]\n",
    "tpc_r = pax_config['tpc_radius']\n",
    "\n",
    "to_pe = np.array([adc_to_pe(pax_config, ch) \n",
    "                  for ch in range(pax_config['n_channels'])])\n",
    "\n",
    "# Get locations of PMTs\n",
    "r = []\n",
    "for q in pax_config['pmts']:\n",
    "    r.append(dict(x=q['position']['x'],\n",
    "                  y=q['position']['y'],\n",
    "                  i=q['pmt_position'],\n",
    "                  array=q.get('array', 'other')))\n",
    "f = 1.08\n",
    "pmt_locs = pd.DataFrame(r)\n",
    "n_top = len(pax_config['channels_top'])"
   ]
  },
  {
   "cell_type": "code",
   "execution_count": null,
   "metadata": {
    "collapsed": true
   },
   "outputs": [],
   "source": [
    "# Load and baseline data\n",
    "records = strax.load('tl_z')\n",
    "strax.process.baseline(records)\n",
    "records = strax.process.sort_by_time(records)"
   ]
  },
  {
   "cell_type": "code",
   "execution_count": null,
   "metadata": {
    "collapsed": true
   },
   "outputs": [],
   "source": [
    "n_coin = coincidence_level(records, 100)"
   ]
  },
  {
   "cell_type": "code",
   "execution_count": null,
   "metadata": {},
   "outputs": [],
   "source": [
    "n_coin.max()"
   ]
  },
  {
   "cell_type": "code",
   "execution_count": null,
   "metadata": {
    "collapsed": true
   },
   "outputs": [],
   "source": [
    "#i = np.argmax(n_coin)"
   ]
  },
  {
   "cell_type": "code",
   "execution_count": null,
   "metadata": {
    "collapsed": true
   },
   "outputs": [],
   "source": [
    "#np.diff(records['time'][i - 200:i + 300])"
   ]
  },
  {
   "cell_type": "code",
   "execution_count": null,
   "metadata": {},
   "outputs": [],
   "source": [
    "(records['record_i'] > 0).sum() / len(records)"
   ]
  },
  {
   "cell_type": "code",
   "execution_count": null,
   "metadata": {},
   "outputs": [],
   "source": [
    "np.histogram(records['channel'], bins=np.arange(0, 260) - 0.5)[0].max() / len(records)"
   ]
  },
  {
   "cell_type": "code",
   "execution_count": null,
   "metadata": {},
   "outputs": [],
   "source": [
    "(n_coin == 1).sum() / len(records)"
   ]
  },
  {
   "cell_type": "code",
   "execution_count": null,
   "metadata": {},
   "outputs": [],
   "source": [
    "import matplotlib.pyplot as plt\n",
    "%matplotlib inline\n",
    "plt.hist(n_coin, np.arange(0, 100)-0.5);"
   ]
  },
  {
   "cell_type": "code",
   "execution_count": null,
   "metadata": {
    "collapsed": true
   },
   "outputs": [],
   "source": [
    "# Somebody thought it was a good idea to call gc.collect explicitly somewhere in holoviews\n",
    "# This makes dynamic PMT maps super slow\n",
    "# Until I trace the offender:\n",
    "gc.collect = lambda : None"
   ]
  },
  {
   "cell_type": "code",
   "execution_count": null,
   "metadata": {
    "collapsed": true
   },
   "outputs": [],
   "source": [
    "records = records[records['channel'] != 87]"
   ]
  },
  {
   "cell_type": "code",
   "execution_count": null,
   "metadata": {
    "collapsed": true
   },
   "outputs": [],
   "source": [
    "# Integral in pe\n",
    "areas = records['data'].sum(axis=1) * to_pe[records['channel']]\n",
    "\n",
    "# Convert to pandas dataframe\n",
    "times = records['time']\n",
    "times = (times - times[0])/1e9\n",
    "df = pd.DataFrame(dict(area=areas,\n",
    "                       time=times, \n",
    "                       channel=records['channel']))\n",
    "\n",
    "# Convert to holoviews Points\n",
    "points = hv.Points(df, \n",
    "                   kdims=[hv.Dimension('time', label='Time', unit='sec' ),\n",
    "                          hv.Dimension('channel', label='PMT number', range=(0, 260))], \n",
    "                   vdims=[hv.Dimension('area', label='Area', unit='pe', \n",
    "                                       #range=(0, 1000)\n",
    "                                      )])"
   ]
  },
  {
   "cell_type": "code",
   "execution_count": null,
   "metadata": {
    "collapsed": true
   },
   "outputs": [],
   "source": [
    "%opts Points.PMTPattern [color_index=2 tools=['hover'] show_grid=False] (size=17)\n",
    "\n",
    "def pattern_plot(array, areas):\n",
    "    mask = pmt_locs['array'] == array\n",
    "    d = pmt_locs[mask].copy()\n",
    "    d['area'] = areas[mask]\n",
    "    d = hv.Dataset(d,  \n",
    "                   kdims=[hv.Dimension('x', unit='cm', range=(-tpc_r * f, tpc_r * f)),\n",
    "                          hv.Dimension('y', unit='cm', range=(-tpc_r * f, tpc_r * f)),\n",
    "                          hv.Dimension('i', label='PMT number'),\n",
    "                          hv.Dimension('area', label='Area', unit='PE')])\n",
    "    return d.to(hv.Points, vdims=['area', 'i'], group='PMTPattern', label=array.capitalize())\n",
    "\n",
    "def areas_between(t_0, t_1):\n",
    "    mask = (t_0 <= points['time']) & (points['time'] < t_1)\n",
    "    ps = points[mask]\n",
    "    areas = np.bincount(ps['channel'], weights=ps['area'], minlength=len(pmt_locs))\n",
    "    return areas\n",
    "\n",
    "def pmt_map(t_0, t_1, array='top'):\n",
    "    areas = areas_between(t_0, t_1)\n",
    "    return pattern_plot(array, areas)"
   ]
  },
  {
   "cell_type": "code",
   "execution_count": null,
   "metadata": {
    "collapsed": true
   },
   "outputs": [],
   "source": [
    "hv.extension('bokeh')"
   ]
  },
  {
   "cell_type": "code",
   "execution_count": null,
   "metadata": {},
   "outputs": [],
   "source": [
    "hv.DynamicMap(pmt_map, kdims=['t_0', 't_1']).redim.range(t_0=(0., 1.), t_1=(0., 1.))"
   ]
  },
  {
   "cell_type": "code",
   "execution_count": null,
   "metadata": {
    "collapsed": true
   },
   "outputs": [],
   "source": [
    "\"\"\"\n",
    "%%opts QuadMesh [width=n_bins_t height=400 tools=['xbox_select']] (alpha=0 hover_line_alpha=1 hover_fill_alpha=0)\n",
    "\n",
    "def selected_pmt_area(index):\n",
    "    # NB: If you make exceptions in these callbacks, you get nothing!    \n",
    "    # You also can't print anything. What kind of ghostly process is this running in??\n",
    "    \n",
    "    selected_bins = index\n",
    "    # Get displayed time range\n",
    "    if xyrange.x_range is None:\n",
    "        t_0 = times[0]\n",
    "        t_1 = times[-1]\n",
    "    else:\n",
    "        t_0 = xyrange.x_range[0]\n",
    "        t_1 = xyrange.x_range[1]\n",
    "    t_range = t_1 - t_0\n",
    "\n",
    "    if len(selected_bins):\n",
    "        tsel_0 = t_0 + selected_bins[0] * t_range/n_bins_t\n",
    "        tsel_1 = t_0 + selected_bins[-1] * t_range/n_bins_t\n",
    "\n",
    "        #return pmt_maps(tsel_0, tsel_1)\n",
    "    \n",
    "    return pmt_maps(t_0, t_1)\n",
    "\n",
    "selection = hv.streams.Selection1D(source=points)  \n",
    "\n",
    "quadmesh_helper = aggregate(points, width=40, height=20, \n",
    "                            streams=[xyrange, selection]).map(hv.QuadMesh, hv.Image)\n",
    "                            \n",
    "                            \n",
    "tools=[wzt, 'xbox_select']\n",
    "\"\"\";"
   ]
  },
  {
   "cell_type": "code",
   "execution_count": null,
   "metadata": {
    "collapsed": true
   },
   "outputs": [],
   "source": [
    "# xyrange = hv.streams.RangeXY(source=points)\n",
    "# pulse_image = datashade(points)\n",
    "\n",
    "# layout = pulse_image * quadmesh_helper + hv.DynamicMap(selected_pmt_area, streams=[selection]).collate()\n",
    "# layout.cols(1)"
   ]
  },
  {
   "cell_type": "code",
   "execution_count": null,
   "metadata": {
    "collapsed": true
   },
   "outputs": [],
   "source": [
    "# Custom wheel zoom tool that only zooms in time\n",
    "from bokeh.models import WheelZoomTool\n",
    "wzt = WheelZoomTool(dimensions='width')\n",
    "n_bins_t = 600"
   ]
  },
  {
   "cell_type": "markdown",
   "metadata": {},
   "source": [
    "Link color scales!"
   ]
  },
  {
   "cell_type": "code",
   "execution_count": null,
   "metadata": {},
   "outputs": [],
   "source": [
    "np.argmax(areas_between(*xrange.x_range))"
   ]
  },
  {
   "cell_type": "code",
   "execution_count": null,
   "metadata": {
    "collapsed": true
   },
   "outputs": [],
   "source": [
    "make_pmt_map()"
   ]
  },
  {
   "cell_type": "code",
   "execution_count": null,
   "metadata": {
    "scrolled": false
   },
   "outputs": [],
   "source": [
    "%%opts RGB [width=600, tools=[wzt], show_grid=True, default_tools=['save', 'pan', 'box_zoom', 'save', 'reset']]\n",
    "%%opts Curve [width=600, tools=[wzt], show_grid=True, default_tools=['save', 'pan', 'box_zoom', 'save', 'reset']] {+framewise}\n",
    "\n",
    "xrange = hv.streams.RangeX(source=points)\n",
    "\n",
    "# Datashader doesn't do 1d histograms. \n",
    "# It can compute a 2d histogram and then sum it though...\n",
    "# See https://github.com/bokeh/datashader/issues/225\n",
    "agg = aggregate(points, \n",
    "                aggregator=datashader.sum('area'), \n",
    "                streams=[xrange], \n",
    "                x_sampling=1e-8, \n",
    "                height=2)\n",
    "waveform = agg.map(lambda x: x.reduce(channel=np.sum), hv.Image)\n",
    "\n",
    "channelmap = dynspread(datashade(points,\n",
    "                                 streams=[xrange], \n",
    "                                 y_range=(0, 260)))\n",
    "\n",
    "def make_pmt_map(x_range, array='top'):\n",
    "    if x_range is None:\n",
    "        return pmt_map(times[0], times[-1], array=array)\n",
    "    return pmt_map(*x_range, array=array)\n",
    "\n",
    "from functools import partial\n",
    "top_map = hv.DynamicMap(partial(make_pmt_map, array='top'), streams=[xrange])\n",
    "bot_map = hv.DynamicMap(partial(make_pmt_map, array='bottom'), streams=[xrange])\n",
    "\n",
    "layout = waveform + top_map + channelmap + bot_map\n",
    "layout.cols(2)"
   ]
  },
  {
   "cell_type": "code",
   "execution_count": null,
   "metadata": {
    "collapsed": true
   },
   "outputs": [],
   "source": []
  }
 ],
 "metadata": {
  "anaconda-cloud": {},
  "kernelspec": {
   "display_name": "Python [default]",
   "language": "python",
   "name": "python3"
  },
  "language_info": {
   "codemirror_mode": {
    "name": "ipython",
    "version": 3
   },
   "file_extension": ".py",
   "mimetype": "text/x-python",
   "name": "python",
   "nbconvert_exporter": "python",
   "pygments_lexer": "ipython3",
   "version": "3.6.2"
  },
  "toc": {
   "nav_menu": {},
   "number_sections": true,
   "sideBar": true,
   "skip_h1_title": false,
   "toc_cell": false,
   "toc_position": {},
   "toc_section_display": "block",
   "toc_window_display": false
  }
 },
 "nbformat": 4,
 "nbformat_minor": 2
}
