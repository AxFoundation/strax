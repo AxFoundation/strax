{
 "cells": [
  {
   "cell_type": "code",
   "execution_count": null,
   "metadata": {
    "collapsed": false
   },
   "outputs": [],
   "source": [
    "import numpy as np\n",
    "import matplotlib.pyplot as plt\n",
    "%matplotlib inline\n",
    "\n",
    "# ADC->PE conversions for XENON1T\n",
    "to_pe = 1e-3 * np.array([7.05, 0.0, 0.0, 8.09, 4.38, 7.87, 3.58, 7.5, 7.44, 4.82, 7.07, 5.79,  0.0, 5.55, 7.95, 7.02, 6.39, 8.1, 7.15, 7.43, 7.15, 11.4, 3.97, 7.28,  5.41, 7.4, 0.0, 0.0, 7.04, 7.27, 4.22, 16.79, 4.14, 7.04, 0.0, 5.38,  7.39, 7.02, 4.53, 5.17, 7.13, 5.48, 4.6, 7.33, 6.14, 6.52, 7.59,  4.76, 7.56, 7.54, 4.57, 4.6, 7.12, 8.0, 4.7, 8.68, 3.74, 4.97, 10.36,  7.53, 6.02, 12.45, 0.0, 4.49, 4.82, 0.0, 8.13, 7.27, 3.55, 5.65,  4.55, 8.64, 7.97, 0.0, 3.57, 3.69, 5.87, 5.12, 9.8, 0.0, 5.08, 4.09,  3.87, 8.17, 6.73, 9.03, 0.0, 6.93, 0.0, 6.52, 7.39, 0.0, 4.92, 7.48,  5.82, 4.05, 3.9, 5.77, 8.14, 7.62, 7.61, 5.55, 0.0, 7.12, 5.02, 4.57,  4.46, 7.44, 3.57, 7.58, 7.16, 7.33, 7.69, 6.03, 5.87, 9.64, 4.68,  7.88, 0.0, 10.84, 7.0, 3.62, 7.5, 7.45, 7.69, 7.69, 3.49, 3.61, 7.44,  6.38, 0.0, 5.1, 3.72, 5.22, 0.0, 0.0, 4.43, 0.0, 3.87, 0.0, 3.6,  5.35, 8.4, 5.1, 6.45, 5.07, 4.28, 3.5, 0.0, 7.28, 0.0, 4.25, 0.0,  4.72, 6.26, 7.28, 5.34, 7.55, 3.85, 5.54, 7.5, 7.31, 0.0, 7.76, 7.57,  6.66, 7.29, 0.0, 7.59, 3.8, 3.58, 5.21, 4.29, 7.36, 7.76, 4.0, 6.23,  5.86, 0.0, 7.34, 3.58, 3.57, 5.26, 0.0, 7.67, 4.05, 4.3, 4.21, 7.59,  7.59, 0.0, 6.41, 4.86, 3.73, 5.09, 7.59, 7.64, 7.7, 0.0, 5.25, 8.0,  5.32, 7.91, 0.0, 4.41, 11.82, 0.0, 4.51, 7.05, 8.63, 5.12, 4.45,  4.03, 0.0, 0.0, 3.54, 4.18, 9.5, 3.64, 3.67, 7.28, 3.59, 5.03, 3.6,  5.4, 7.18, 3.73, 6.21, 6.47, 3.7, 7.69, 4.58, 7.46, 6.74, 0.0, 3.66,  7.49, 7.55, 3.64, 0.0, 7.34, 4.06, 3.74, 3.97, 0.0, 4.29, 4.96, 3.77,  8.57, 8.57, 8.57, 8.57, 8.57, 8.57, 214.29, 171.43, 171.43, 171.43,  171.43, 171.43])"
   ]
  },
  {
   "cell_type": "code",
   "execution_count": null,
   "metadata": {
    "collapsed": true
   },
   "outputs": [],
   "source": [
    "from strax import *"
   ]
  },
  {
   "cell_type": "markdown",
   "metadata": {},
   "source": [
    "## Stuff that should move to strax proper"
   ]
  },
  {
   "cell_type": "code",
   "execution_count": null,
   "metadata": {
    "collapsed": true
   },
   "outputs": [],
   "source": [
    "@numba.jit   # nopython complains about zeros... but object mode is really fast as well :-)\n",
    "def index_of_fraction(peaks, fractions_desired):\n",
    "    results = np.zeros((len(peaks), len(fractions_desired)), dtype=np.float)\n",
    "\n",
    "    for p_i, p in enumerate(peaks):\n",
    "        area_tot = p['area']\n",
    "        if area_tot <= 0:\n",
    "            continue   # TODO: These occur a lot. Investigate!\n",
    "        r = results[p_i]\n",
    "        \n",
    "        fraction_seen = 0\n",
    "        current_fraction_index = 0\n",
    "        needed_fraction = fractions_desired[current_fraction_index]\n",
    "        for i, x in enumerate(p['data'][:p['length']]):\n",
    "            # How much of the area is in this sample?\n",
    "            fraction_this_sample = x/area_tot\n",
    "\n",
    "            # Are we passing any desired fractions in this sample?\n",
    "            while fraction_seen + fraction_this_sample >= needed_fraction:\n",
    "                \n",
    "                area_needed = area_tot * (needed_fraction - fraction_seen)\n",
    "                if x != 0:\n",
    "                    r[current_fraction_index] = i + area_needed/x\n",
    "                else:\n",
    "                    r[current_fraction_index] = i\n",
    "                    \n",
    "                # Advance to the next fraction\n",
    "                current_fraction_index += 1\n",
    "                if current_fraction_index > len(fractions_desired) - 1:\n",
    "                    break\n",
    "                needed_fraction = fractions_desired[current_fraction_index]\n",
    "        \n",
    "            if current_fraction_index > len(fractions_desired) - 1:\n",
    "                break\n",
    "        \n",
    "            # Add this sample's area to the area seen, advance to the next sample\n",
    "            fraction_seen += fraction_this_sample\n",
    "        \n",
    "        if needed_fraction == 1:\n",
    "            # Sometimes floating-point errors prevent the full area from being reached\n",
    "            # before the waveform closes\n",
    "            r[-1] = p['length']\n",
    "            \n",
    "    return results\n",
    "\n",
    "def peak_widths(peaks, desired_widths): \n",
    "    # Which area fractions do we need times for?\n",
    "    desired_widths = np.asarray(desired_widths)\n",
    "    desired_fr = np.concatenate([0.5 - desired_widths/2,\n",
    "                                 0.5 + desired_widths/2])\n",
    "    desired_fr = np.sort(np.unique(desired_fr))\n",
    "    fr_times = index_of_fraction(peaks, desired_fr)\n",
    "    fr_times *= peaks['dt'].reshape(-1, 1)\n",
    "    \n",
    "    i = len(desired_fr) // 2\n",
    "    return fr_times[:,i:] - fr_times[:,:i]"
   ]
  },
  {
   "cell_type": "markdown",
   "metadata": {},
   "source": [
    "### Prepare fake data"
   ]
  },
  {
   "cell_type": "code",
   "execution_count": null,
   "metadata": {
    "collapsed": false
   },
   "outputs": [],
   "source": [
    "records = load('test_records_uncomp')\n",
    "daq_interface.reader_split(records, 'fake_daq_output')"
   ]
  },
  {
   "cell_type": "markdown",
   "metadata": {},
   "source": [
    "# Processing"
   ]
  },
  {
   "cell_type": "code",
   "execution_count": null,
   "metadata": {
    "collapsed": false
   },
   "outputs": [],
   "source": [
    "%%time\n",
    "records = daq_interface.load_from_readers('fake_daq_output')\n",
    "records = sort_by_time(records)\n",
    "baseline(records)\n",
    "integrate(records)\n",
    "\n",
    "# Data reduction 1: Remove single electron tails\n",
    "records = exclude_tails(records, to_pe)\n",
    "\n",
    "hits = find_hits(records)\n",
    "\n",
    "# Data reduction 2: Remove samples not near hits\n",
    "cut_outside_hits(records, hits)\n",
    "\n",
    "peaks = find_peaks(hits, to_pe)\n",
    "sum_waveform(peaks, records, to_pe)\n",
    "save('processed_data', peaks)\n",
    "save('raw_data', records)"
   ]
  },
  {
   "cell_type": "markdown",
   "metadata": {},
   "source": [
    "| System | Active cores | Processing time (sec) | Throughput (MB/core/sec) |\n",
    "|---------------|----------------------------------|-----------------|\n",
    "| Pax           | 1     | 540  | 0.5 |\n",
    "| Event builder | 100 | 1 | 3 | \n",
    "| Strax         | 1  | 4 | 75 |\n",
    "| Strax + 6x reduction   | 1      | 1.5  | 200 |"
   ]
  },
  {
   "cell_type": "markdown",
   "metadata": {},
   "source": [
    "# Let's see what's in there"
   ]
  },
  {
   "cell_type": "code",
   "execution_count": null,
   "metadata": {
    "collapsed": false,
    "scrolled": false
   },
   "outputs": [],
   "source": [
    "peak_i = 183 #5733\n",
    "p = peaks[peak_i]\n",
    "n = p['length']\n",
    "plt.plot(np.arange(n) * p['dt'], p['data'][:n], linestyle='steps-mid')\n",
    "plt.xlabel(\"Time (ns)\")\n",
    "plt.ylabel(\"Sum waveform (PE / bin)\")"
   ]
  },
  {
   "cell_type": "code",
   "execution_count": null,
   "metadata": {
    "collapsed": false
   },
   "outputs": [],
   "source": [
    "%%time\n",
    "widths = peak_widths(peaks, [0.5])[:, 0]\n",
    "area_top = (peaks['area_per_channel'][:,:127] * to_pe[:127].reshape(1, -1)).sum(axis=1)\n",
    "aft = area_top/peaks['area']"
   ]
  },
  {
   "cell_type": "code",
   "execution_count": null,
   "metadata": {
    "collapsed": false
   },
   "outputs": [],
   "source": [
    "mask = peaks['n_hits'] > 7\n",
    "\n",
    "plt.scatter(peaks['area'][mask], \n",
    "            widths[mask], \n",
    "            c=aft[mask], \n",
    "            s=1,\n",
    "            cmap=plt.cm.rainbow, vmin=0, vmax=1)\n",
    "\n",
    "plt.colorbar(label='Area fraction top')\n",
    "plt.xlabel(\"Area (pe)\")\n",
    "plt.ylabel(\"Width (50% area, ns)\")\n",
    "plt.gca().patch.set_facecolor('black')\n",
    "plt.xscale('log')\n",
    "plt.yscale('log')\n",
    "plt.xlim(1, 5e6)\n",
    "plt.ylim(10, 2e4)"
   ]
  }
 ],
 "metadata": {
  "anaconda-cloud": {},
  "kernelspec": {
   "display_name": "Python [conda env:ml]",
   "language": "python",
   "name": "conda-env-ml-py"
  },
  "language_info": {
   "codemirror_mode": {
    "name": "ipython",
    "version": 3
   },
   "file_extension": ".py",
   "mimetype": "text/x-python",
   "name": "python",
   "nbconvert_exporter": "python",
   "pygments_lexer": "ipython3",
   "version": "3.6.2"
  }
 },
 "nbformat": 4,
 "nbformat_minor": 0
}
