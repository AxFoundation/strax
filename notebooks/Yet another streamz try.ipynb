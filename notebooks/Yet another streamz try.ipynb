{
 "cells": [
  {
   "cell_type": "code",
   "execution_count": 1,
   "metadata": {},
   "outputs": [],
   "source": [
    "\"\"\"Utilities for dealing with streams of numpy (record) arrays\n",
    "maybe this should become its own package?\n",
    "\"\"\"\n",
    "import numpy as np\n",
    "from strax.utils import first_index_not_below\n",
    "\n",
    "__all__ = 'ChunkPacer fixed_size_chunks equal_chunks'.split()\n",
    "\n",
    "\n",
    "class ChunkPacer:\n",
    "\n",
    "    def __init__(self, source):\n",
    "        self.source = source\n",
    "        self.buffer = []\n",
    "        self.buffer_items = 0\n",
    "\n",
    "    def _fetch_another(self):\n",
    "        x = next(self.source)\n",
    "        self.buffer.append(x)\n",
    "        self.buffer_items += len(x)\n",
    "\n",
    "    def _squash_buffer(self):\n",
    "        if len(self.buffer) > 1:\n",
    "            # Since concatenate requires a memory copy,\n",
    "            # we don't do it on every next call\n",
    "            self.buffer = [np.concatenate(self.buffer)]\n",
    "\n",
    "    def _take_from_buffer(self, n):\n",
    "        self._squash_buffer()\n",
    "        b = self.buffer[0]\n",
    "        if len(b) == 0:\n",
    "            raise StopIteration\n",
    "\n",
    "        n = min(n, len(b))\n",
    "        result, b = np.split(b, [n])\n",
    "        self.buffer = [b]\n",
    "        self.buffer_items = len(b)\n",
    "        return result\n",
    "\n",
    "    def get_n(self, n: int):\n",
    "        \"\"\"Return array of the next n elements produced by source,\n",
    "        or (if this is less) as many as the source can still produce.\n",
    "\n",
    "        Raises StopIteration if source has been exhausted.\n",
    "        \"\"\"\n",
    "        try:\n",
    "            while self.buffer_items < n:\n",
    "                self._fetch_another()\n",
    "        except StopIteration:\n",
    "            pass\n",
    "\n",
    "        return self._take_from_buffer(n)\n",
    "\n",
    "    def get_until(self, threshold, f=None):\n",
    "        \"\"\"Return remaining elements of source below or at threshold,\n",
    "        assuming source gives sorted arrays.\n",
    "\n",
    "        :param f: computation to do on array elements before comparison\n",
    "        \"\"\"\n",
    "        if f is None:\n",
    "            def f(x):\n",
    "                return x\n",
    "\n",
    "        if not len(self.buffer):\n",
    "            self._fetch_another()\n",
    "        assert len(self.buffer) == 1\n",
    "\n",
    "        try:\n",
    "            while not f(self.buffer[-1][-1]) > threshold:\n",
    "                self._fetch_another()\n",
    "        except StopIteration:\n",
    "            pass\n",
    "\n",
    "        n = first_index_not_below(f(self.buffer[-1]), threshold)\n",
    "        n += sum(len(x) for x in self.buffer[:-1])\n",
    "        return self._take_from_buffer(n)\n",
    "\n",
    "    def put_back_at_start(self, x):\n",
    "        self.buffer = [x] + self.buffer\n",
    "        self._squash_buffer()\n",
    "\n",
    "\n",
    "def fixed_length_chunks(source, n=10):\n",
    "    \"\"\"Yield arrays of maximum length n\"\"\"\n",
    "    p = ChunkPacer(source)\n",
    "    try:\n",
    "        while True:\n",
    "            yield p.get_n(n)\n",
    "    except StopIteration:\n",
    "        return\n"
   ]
  },
  {
   "cell_type": "code",
   "execution_count": 2,
   "metadata": {},
   "outputs": [],
   "source": [
    "import streamz\n",
    "\n",
    "@streamz.register_api\n",
    "class fixed_n_chunks(streamz.Stream):\n",
    "\n",
    "    def update(self, x, who=None):\n",
    "        \n",
    "        \n",
    "        L = []\n",
    "        for item in x:\n",
    "            y = self._emit(item)\n",
    "            if type(y) is list:\n",
    "                L.extend(y)\n",
    "            else:\n",
    "                L.append(y)\n",
    "        return L\n"
   ]
  },
  {
   "cell_type": "markdown",
   "metadata": {},
   "source": [
    "conda install -c conda_forge graphviz libiconf\n",
    "pip install graphviz"
   ]
  },
  {
   "cell_type": "code",
   "execution_count": null,
   "metadata": {},
   "outputs": [],
   "source": [
    "source = streamz.Stream()\n",
    "\n",
    "def fixed_length_chunks(state, new):\n",
    "    state.add(new)\n",
    "    return state, ..."
   ]
  },
  {
   "cell_type": "code",
   "execution_count": 3,
   "metadata": {},
   "outputs": [
    {
     "data": {
      "image/png": "[encoded data removed]",
      "text/plain": [
       "<IPython.core.display.Image object>"
      ]
     },
     "execution_count": 3,
     "metadata": {},
     "output_type": "execute_result"
    }
   ],
   "source": [
    "def increment(x):\n",
    "    return x + 1\n",
    "\n",
    "def decrement(x):\n",
    "    return x - 1\n",
    "\n",
    "source = streamz.Stream()\n",
    "a = source.map(increment).sink(print)\n",
    "b = source.map(decrement).sink(print)\n",
    "b.visualize(rankdir='LR')"
   ]
  },
  {
   "cell_type": "code",
   "execution_count": 29,
   "metadata": {},
   "outputs": [],
   "source": [
    "source = streamz.Stream()\n",
    "bla = source.map(increment)\n",
    "bla2 = source.map(decrement)\n",
    "zipped = streamz.zip(bla, bla2)\n",
    "end = zipped.sink(print)"
   ]
  },
  {
   "cell_type": "code",
   "execution_count": 30,
   "metadata": {},
   "outputs": [
    {
     "name": "stdout",
     "output_type": "stream",
     "text": [
      "(9, 7)\n"
     ]
    },
    {
     "data": {
      "text/plain": [
       "<tornado.concurrent.Future at 0x7f267a4362b0>"
      ]
     },
     "execution_count": 30,
     "metadata": {},
     "output_type": "execute_result"
    }
   ],
   "source": [
    "source.emit(8)"
   ]
  },
  {
   "cell_type": "code",
   "execution_count": 20,
   "metadata": {},
   "outputs": [],
   "source": [
    "# source = streamz.Stream()\n",
    "\n",
    "# zipped = streamz.zip(bla, bla2)\n",
    "# end = zipped\n",
    "# end.visualize()"
   ]
  },
  {
   "cell_type": "code",
   "execution_count": 9,
   "metadata": {},
   "outputs": [
    {
     "data": {
      "text/plain": [
       "False"
      ]
     },
     "execution_count": 9,
     "metadata": {},
     "output_type": "execute_result"
    }
   ],
   "source": [
    "bla2 == bla"
   ]
  },
  {
   "cell_type": "code",
   "execution_count": null,
   "metadata": {},
   "outputs": [],
   "source": []
  }
 ],
 "metadata": {
  "kernelspec": {
   "display_name": "Python 3",
   "language": "python",
   "name": "python3"
  },
  "language_info": {
   "codemirror_mode": {
    "name": "ipython",
    "version": 3
   },
   "file_extension": ".py",
   "mimetype": "text/x-python",
   "name": "python",
   "nbconvert_exporter": "python",
   "pygments_lexer": "ipython3",
   "version": "3.6.4"
  }
 },
 "nbformat": 4,
 "nbformat_minor": 2
}
