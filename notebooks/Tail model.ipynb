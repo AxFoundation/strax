{
 "cells": [
  {
   "cell_type": "code",
   "execution_count": null,
   "metadata": {},
   "outputs": [],
   "source": [
    "import numpy as np\n",
    "import matplotlib.pyplot as plt\n",
    "from pax import units\n",
    "%matplotlib inline"
   ]
  },
  {
   "cell_type": "code",
   "execution_count": null,
   "metadata": {},
   "outputs": [],
   "source": [
    "from pax.configuration import load_configuration\n",
    "from pax.dsputils import adc_to_pe\n",
    "pax_config = load_configuration('XENON1T')[\"DEFAULT\"]\n",
    "to_pe = np.array([adc_to_pe(pax_config, ch) \n",
    "                  for ch in range(pax_config['n_channels'])])"
   ]
  },
  {
   "cell_type": "code",
   "execution_count": null,
   "metadata": {},
   "outputs": [],
   "source": [
    "import strax\n",
    "fn = 'tl_uncomp'\n",
    "records = strax.load(fn)\n",
    "strax.sort_by_time(records)\n",
    "strax.baseline(records)\n",
    "hits = strax.find_hits(records)\n",
    "strax.cut_outside_hits(records, hits)"
   ]
  },
  {
   "cell_type": "code",
   "execution_count": null,
   "metadata": {},
   "outputs": [],
   "source": [
    "# Find peaks at single-electron granularity\n",
    "peaks = strax.find_peaks(hits, gap_threshold=250, min_hits=12)"
   ]
  },
  {
   "cell_type": "code",
   "execution_count": null,
   "metadata": {},
   "outputs": [],
   "source": [
    "# Group these together in larger peaks (separated by no more than 1 ms)\n",
    "tails = strax.find_peaks(peaks, \n",
    "                         gap_threshold=int(1e6), \n",
    "                         min_hits=1,\n",
    "                         max_duration=int(1 * units.ms),\n",
    "                         dtype=strax.peak_dtype(n_channels=260,\n",
    "                                                n_sum_wv_samples=100))"
   ]
  },
  {
   "cell_type": "code",
   "execution_count": null,
   "metadata": {},
   "outputs": [],
   "source": [
    "# TODO: crash when I do this on peaks?"
   ]
  },
  {
   "cell_type": "code",
   "execution_count": null,
   "metadata": {},
   "outputs": [],
   "source": [
    "strax.sum_waveform(tails, records, to_pe)\n",
    "tails['area'] = (tails['area_per_channel'] * to_pe.reshape(1, -1)).sum(axis=1)"
   ]
  },
  {
   "cell_type": "code",
   "execution_count": null,
   "metadata": {},
   "outputs": [],
   "source": [
    "np.sort(tails['area'])[-10:]"
   ]
  },
  {
   "cell_type": "code",
   "execution_count": null,
   "metadata": {},
   "outputs": [],
   "source": [
    "big_i = np.argsort(tails['area'])[-3]\n",
    "p = tails[big_i]\n",
    "w = p['sum_waveform']\n",
    "dt = 10 * units.ns * p['downsample_factor']\n",
    "t = np.arange(0, len(w)) * dt\n",
    "plt.plot(t / units.ms, w, linestyle='steps-mid')\n",
    "plt.title('%d PE' % peaks[big_i]['area'])\n",
    "plt.ylim(0, None)\n",
    "plt.xlim(0, None)\n",
    "plt.yscale('symlog')\n",
    "plt.xlabel(\"Time (ms)\")\n",
    "plt.ylabel(\"Amplitude PE/bin\")\n",
    "plt.plot(t / units.ms, 1e4 * np.exp(-t/(400 * units.us)), marker='.', color='red')\n",
    "plt.xlim(0, 1)\n",
    "#plt.xscale('symlog')"
   ]
  },
  {
   "cell_type": "markdown",
   "metadata": {},
   "source": [
    "# OLD"
   ]
  },
  {
   "cell_type": "code",
   "execution_count": null,
   "metadata": {},
   "outputs": [],
   "source": [
    "from multihist import Hist1d"
   ]
  },
  {
   "cell_type": "code",
   "execution_count": null,
   "metadata": {},
   "outputs": [],
   "source": [
    "def peakfinder(gap_threshold=300, min_hits=3):\n",
    "    peaks = strax.find_peaks(hits, gap_threshold=gap_threshold, min_hits=min_hits)\n",
    "    print(thr, len(records), len(hits), len(peaks))\n",
    "    \n",
    "    \n",
    "    return peaks"
   ]
  },
  {
   "cell_type": "code",
   "execution_count": null,
   "metadata": {},
   "outputs": [],
   "source": [
    "for thr in (250, 300,  350, 400, 500):\n",
    "    peaks = peakfinder(thr)\n",
    "    Hist1d(peaks['area'], np.linspace(0, 50, 50)).plot(label=thr)\n",
    "plt.legend()"
   ]
  },
  {
   "cell_type": "code",
   "execution_count": null,
   "metadata": {},
   "outputs": [],
   "source": []
  },
  {
   "cell_type": "code",
   "execution_count": null,
   "metadata": {},
   "outputs": [],
   "source": [
    "peaks = peakfinder(gap_threshold=int(100 * 1e3), min_hits=100)"
   ]
  },
  {
   "cell_type": "code",
   "execution_count": null,
   "metadata": {},
   "outputs": [],
   "source": [
    "np.sort(peaks['area'])[-10:]"
   ]
  },
  {
   "cell_type": "code",
   "execution_count": null,
   "metadata": {},
   "outputs": [],
   "source": [
    "big_i = np.argsort(peaks['area'])[-1]\n",
    "p = peaks[big_i]\n",
    "p['area']"
   ]
  },
  {
   "cell_type": "code",
   "execution_count": null,
   "metadata": {},
   "outputs": [],
   "source": [
    "(p['endtime'] - p['time']) / 1000"
   ]
  },
  {
   "cell_type": "code",
   "execution_count": null,
   "metadata": {},
   "outputs": [],
   "source": [
    "w = p['sum_waveform']\n",
    "dt = 10 * units.ns * p['downsample_factor']\n",
    "t = np.arange(0, len(w)) * dt\n",
    "plt.plot(t / units.ms, w, linestyle='steps-mid')\n",
    "plt.title('%d PE' % peaks[big_i]['area'])\n",
    "plt.ylim(0, None)\n",
    "plt.xlim(0, None)\n",
    "plt.yscale('symlog')\n",
    "plt.xlabel(\"Time (ms)\")\n",
    "plt.ylabel(\"Amplitude PE/bin\")\n",
    "#plt.xlim(0, 1)\n",
    "#plt.xscale('symlog')"
   ]
  },
  {
   "cell_type": "code",
   "execution_count": null,
   "metadata": {},
   "outputs": [],
   "source": [
    "t0 = peaks[big_i]['time']\n",
    "ps = peaks[big_i:]\n",
    "amps = ps['area'] / (ps['endtime'] - ps['time'])\n",
    "plt.scatter((ps['time'] - t0) / units.us, \n",
    "            , \n",
    "            marker='.')\n",
    "plt.ylim(1e-3, 1)\n",
    "plt.yscale('log')\n",
    "plt.xscale('log')\n",
    "plt.xlim(1, 1e6)"
   ]
  },
  {
   "cell_type": "code",
   "execution_count": null,
   "metadata": {},
   "outputs": [],
   "source": [
    "big_i = np.argsort(peaks['area'])[-2]\n",
    "t0 = peaks[big_i]['time']\n",
    "for i in range(big_i, big_i + 100):\n",
    "    p = peaks[i]\n",
    "    w = p['sum_waveform']\n",
    "    dt = 10 * units.ns * p['downsample_factor']\n",
    "    t = np.arange(0, len(w)) * dt\n",
    "    t += p['time'] - t0\n",
    "    plt.plot(t / units.ms, w, linestyle='steps-mid')\n",
    "plt.title('%d PE' % peaks[big_i]['area'])\n",
    "plt.ylim(0, None)\n",
    "plt.xlim(0, None)\n",
    "plt.yscale('symlog')\n",
    "plt.xlabel(\"Time (ms)\")\n",
    "plt.ylabel(\"Amplitude PE/bin\")\n",
    "#plt.xscale('symlog')"
   ]
  },
  {
   "cell_type": "code",
   "execution_count": null,
   "metadata": {},
   "outputs": [],
   "source": [
    "for i in range(big_i, big_i + 20):"
   ]
  }
 ],
 "metadata": {
  "kernelspec": {
   "display_name": "Python 3",
   "language": "python",
   "name": "python3"
  },
  "language_info": {
   "codemirror_mode": {
    "name": "ipython",
    "version": 3
   },
   "file_extension": ".py",
   "mimetype": "text/x-python",
   "name": "python",
   "nbconvert_exporter": "python",
   "pygments_lexer": "ipython3",
   "version": "3.6.4"
  }
 },
 "nbformat": 4,
 "nbformat_minor": 2
}
