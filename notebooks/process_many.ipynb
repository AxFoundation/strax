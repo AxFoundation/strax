{
 "cells": [
  {
   "cell_type": "code",
   "execution_count": null,
   "metadata": {},
   "outputs": [],
   "source": [
    "import numpy as np\n",
    "import pandas as pd\n",
    "from tqdm import tqdm\n",
    "\n",
    "import matplotlib\n",
    "import matplotlib.pyplot as plt\n",
    "%matplotlib inline\n",
    "\n",
    "pd.options.display.max_colwidth = 100   # Hm, not ideal. Shorten comments?\n",
    "\n",
    "# import logging\n",
    "# logging.basicConfig(level=logging.DEBUG,\n",
    "#                     format='{name} in {threadName} at {asctime}: {message}', style='{')\n",
    "# logging.getLogger().setLevel(logging.DEBUG)"
   ]
  },
  {
   "cell_type": "code",
   "execution_count": null,
   "metadata": {},
   "outputs": [],
   "source": [
    "import os\n",
    "import glob\n",
    "import shutil\n",
    "\n",
    "run_id = '180219_2005'\n",
    "\n",
    "def clean_dir():\n",
    "    for d in glob.glob(f'./strax_data/{run_id}_*'):\n",
    "        filename = os.path.split(d)[-1]\n",
    "        if filename.endswith(\"reduced_records\") or not filename.endswith('records'):\n",
    "            shutil.rmtree(d)\n",
    "\n",
    "clean_dir()"
   ]
  },
  {
   "cell_type": "code",
   "execution_count": null,
   "metadata": {},
   "outputs": [],
   "source": [
    "import strax\n",
    "strax.register_all(strax.xenon.plugins)\n",
    "mystrax = strax.Strax(max_workers=2)"
   ]
  },
  {
   "cell_type": "code",
   "execution_count": null,
   "metadata": {},
   "outputs": [],
   "source": [
    "%%time\n",
    "mystrax.make(run_id, 'peaks',\n",
    "             #profile_to='test_peaks_par.prof'\n",
    "             save=['peaks', 'reduced_records'])"
   ]
  },
  {
   "cell_type": "markdown",
   "metadata": {},
   "source": [
    "# Reduce peak info"
   ]
  },
  {
   "cell_type": "code",
   "execution_count": null,
   "metadata": {},
   "outputs": [],
   "source": [
    "mystrax.data_info('peak_basics')"
   ]
  },
  {
   "cell_type": "code",
   "execution_count": null,
   "metadata": {},
   "outputs": [],
   "source": [
    "df = mystrax.get_df(run_id, 'peak_basics')\n",
    "df.head()"
   ]
  },
  {
   "cell_type": "markdown",
   "metadata": {},
   "source": [
    "This takes about 30x less memory than the raw peaks (with waveforms, area_per_channel, etc). A substantial reduction, but not enough to forego chunking."
   ]
  },
  {
   "cell_type": "code",
   "execution_count": null,
   "metadata": {},
   "outputs": [],
   "source": [
    "from multihist import Histdd\n",
    "d = df\n",
    "mh = Histdd(d['area'], d['range_50p_area'],\n",
    "            bins=(np.logspace(0, 7, 100),\n",
    "                  np.logspace(1, 4, 100)))\n",
    "mh.plot(log_scale=True)\n",
    "plt.xscale('log')\n",
    "plt.yscale('log')"
   ]
  },
  {
   "cell_type": "code",
   "execution_count": null,
   "metadata": {},
   "outputs": [],
   "source": [
    "d = df[df['n_channels'] > 3]\n",
    "plt.scatter(d['area'], \n",
    "            d['range_50p_area'],\n",
    "            c=d['area_fraction_top'], \n",
    "            s=0.1,\n",
    "            cmap=plt.cm.rainbow, vmin=0, vmax=1)\n",
    "plt.xscale('log')\n",
    "\n",
    "plt.colorbar(label='Area fraction top')\n",
    "plt.xlabel(\"Area (pe)\")\n",
    "plt.ylabel(\"Width (50% area, ns)\")\n",
    "plt.gca().patch.set_facecolor('black')\n",
    "plt.xscale('log')\n",
    "plt.yscale('log')\n",
    "plt.xlim(1, 5e6)\n",
    "plt.ylim(10, 2e4)"
   ]
  },
  {
   "cell_type": "markdown",
   "metadata": {},
   "source": [
    "# Merging"
   ]
  },
  {
   "cell_type": "code",
   "execution_count": null,
   "metadata": {},
   "outputs": [],
   "source": [
    "@mystrax.register\n",
    "class PeakInfo(strax.MergePlugin):\n",
    "    depends_on = ('peak_basics', 'peak_classification')\n",
    "\n",
    "mystrax.data_info('peak_info')"
   ]
  },
  {
   "cell_type": "code",
   "execution_count": null,
   "metadata": {},
   "outputs": [],
   "source": [
    "df = mystrax.get_df(run_id, 'peak_info')\n",
    "df.head()"
   ]
  },
  {
   "cell_type": "markdown",
   "metadata": {},
   "source": [
    "# Event building"
   ]
  },
  {
   "cell_type": "code",
   "execution_count": null,
   "metadata": {},
   "outputs": [],
   "source": [
    "events = mystrax.get_array(data_dir, 'events')\n",
    "\n",
    "# Events do not overlap\n",
    "assert np.min(events['time'][1:] - events['endtime'][:-1]) > 0"
   ]
  },
  {
   "cell_type": "code",
   "execution_count": null,
   "metadata": {},
   "outputs": [],
   "source": [
    "df = mystrax.get_df(run_id, 'event_basics')"
   ]
  },
  {
   "cell_type": "code",
   "execution_count": null,
   "metadata": {},
   "outputs": [],
   "source": [
    "# ev_props = EventBasics().process_and_slurp(data_dir, n_per_iter=10)\n",
    "# df = pd.DataFrame.from_records(ev_props)"
   ]
  },
  {
   "cell_type": "code",
   "execution_count": null,
   "metadata": {},
   "outputs": [],
   "source": [
    "plt.scatter(df['drift_time'] / int(1e3),\n",
    "            df['s2_range_50p_area'] / int(1e3),\n",
    "            c=df['s1_area_fraction_top'],\n",
    "            vmin=0, vmax=0.25, cmap=plt.cm.jet,\n",
    "            marker='.', edgecolors='none')\n",
    "plt.colorbar(label=\"S1 area fraction top\", extend='max')\n",
    "plt.xlabel('Drift time (us)')\n",
    "plt.ylabel('S2 width (us)')\n",
    "plt.ylim(0, 4)\n",
    "plt.tight_layout()"
   ]
  },
  {
   "cell_type": "code",
   "execution_count": null,
   "metadata": {},
   "outputs": [],
   "source": [
    "clean_dir()"
   ]
  },
  {
   "cell_type": "code",
   "execution_count": null,
   "metadata": {
    "scrolled": false
   },
   "outputs": [],
   "source": [
    "mystrax.get_df(run_id, 'largest_peak_area').head()"
   ]
  },
  {
   "cell_type": "code",
   "execution_count": null,
   "metadata": {},
   "outputs": [],
   "source": [
    "# # Show we've been shown all the correct peaks\n",
    "# ps = chio.slurp(data_dir + '/peak_basics')\n",
    "# n_contained_in = np.bincount(fully_contained_in(ps, events) + 1)[1:]\n",
    "# assert np.all(ev_props['n_peaks'] == n_contained_in)"
   ]
  },
  {
   "cell_type": "markdown",
   "metadata": {},
   "source": [
    "# Find stuff to investigate (old, but useful functions also below)"
   ]
  },
  {
   "cell_type": "code",
   "execution_count": null,
   "metadata": {},
   "outputs": [],
   "source": [
    "df = strax.get_df(run_id, 'peak_basics')"
   ]
  },
  {
   "cell_type": "code",
   "execution_count": null,
   "metadata": {},
   "outputs": [],
   "source": [
    "mask = df['n_channels'] >= 5\n",
    "#mask &= ~np.in1d(max_pmt, [31, 87])\n",
    "d = df[mask]\n",
    "\n",
    "plt.scatter(d['area'], \n",
    "            d['range_50p_area'],\n",
    "            c=d['area_fraction_top'], \n",
    "            s=0.1,\n",
    "            cmap=plt.cm.rainbow, vmin=0, vmax=1)\n",
    "\n",
    "plt.colorbar(label='Area fraction top')\n",
    "plt.xlabel(\"Area (pe)\")\n",
    "plt.ylabel(\"Width (50% area, ns)\")\n",
    "plt.gca().patch.set_facecolor('black')\n",
    "plt.xscale('log')\n",
    "plt.yscale('log')\n",
    "plt.xlim(1, 5e6)\n",
    "plt.ylim(10, 2e4)"
   ]
  },
  {
   "cell_type": "code",
   "execution_count": null,
   "metadata": {},
   "outputs": [],
   "source": [
    "raise ZeroDivisionError"
   ]
  },
  {
   "cell_type": "markdown",
   "metadata": {},
   "source": [
    "# Waveform inspection tools"
   ]
  },
  {
   "cell_type": "code",
   "execution_count": null,
   "metadata": {},
   "outputs": [],
   "source": [
    "def chunk_i(t, subdir='records'):\n",
    "    chunk_starts = get_chunk_starts(subdir)\n",
    "    i = np.searchsorted(chunk_starts, t) - 1\n",
    "    if i < 0:\n",
    "        # TODO: handle starting exactly at the last chunk\n",
    "        raise ValueError(\"time before last chunk starts\")\n",
    "    # TODO: Assumes last chunk is infinitely long...\n",
    "    return i\n",
    "    \n",
    "def get_data(t_start, t_end, channels=None, subdir='records'):\n",
    "    \"\"\"Return all things from subdir that overlap with [t_start, t_end]\n",
    "    in channels.\n",
    "    \n",
    "    This is quite slow if you have big chunks.\n",
    "    \"\"\"\n",
    "    chunk_start = chunk_i(t_start, subdir)\n",
    "    chunk_end = chunk_i(t_end, subdir)\n",
    "    in_files = chunk_files(subdir)\n",
    "    result = []\n",
    "    for i in range(chunk_start, chunk_end + 1):\n",
    "        d = strax.load(in_files[i])\n",
    "        d = d[(t_start < d['time'] + d['length'] * d['dt']) \n",
    "              & (d['time'] < t_end)]\n",
    "        if channels is not None:\n",
    "            d = d[np.in1d(d['channel'], channels)]\n",
    "        result.append(d)\n",
    "    return np.concatenate(result)\n",
    "    \n",
    "def plot_wvs(r, t0=None, time_unit='ns', alternate_colors=False, **kwargs):\n",
    "    time_unit_str = time_unit\n",
    "    time_unit_num = int(dict(ns=1, us=1e3, ms=1e6, s=1e9)[time_unit])\n",
    "\n",
    "    t0 = r['time'][0]\n",
    "    for i, d in enumerate(r):\n",
    "        length = d['length']\n",
    "        w = d['data'][:length]\n",
    "        t = (np.arange(length, dtype=np.int64) * d['dt'] + (d['time'] - t0)) \n",
    "        if alternate_colors:\n",
    "            color = 'k' if i % 2 == 0 else 'darkslategrey'\n",
    "        else:\n",
    "            color = 'k'\n",
    "        plt.plot(t/time_unit_num, w/d['dt'], color=color, **kwargs)\n",
    "        \n",
    "    plt.xlabel(\"Time (%s)\" % time_unit_str)\n",
    "    plt.ylabel(\"Amplitude (pe/ns)\")"
   ]
  },
  {
   "cell_type": "markdown",
   "metadata": {},
   "source": [
    "# Try to view PMT waveforms"
   ]
  },
  {
   "cell_type": "code",
   "execution_count": null,
   "metadata": {},
   "outputs": [],
   "source": [
    "df = strax.io_chunked.slurp_df(data_dir + '/peak_basics')"
   ]
  },
  {
   "cell_type": "code",
   "execution_count": null,
   "metadata": {},
   "outputs": [],
   "source": [
    "sd = df[\n",
    "    (df['area'] > 1e4)\n",
    "    & (df['area_fraction_top'] > 0.9)\n",
    "    & (df['max_pmt'] == 87)\n",
    "]"
   ]
  },
  {
   "cell_type": "code",
   "execution_count": null,
   "metadata": {},
   "outputs": [],
   "source": [
    "#get_data(d.time - before, d.endtime + after, subdir='peaks')"
   ]
  },
  {
   "cell_type": "code",
   "execution_count": null,
   "metadata": {},
   "outputs": [],
   "source": [
    "def get_wv(t_start, t_end, subdir='peaks', channels=None, **kwargs):\n",
    "    r = get_data(t_start, t_end, subdir=subdir, channels=channels)\n",
    "    if len(r):\n",
    "        plot_wvs(r, **kwargs)\n",
    "    else:\n",
    "        print(\"Nothing found\")\n",
    "    \n",
    "def get_wv_of(x, extend=0, **kwargs):\n",
    "    try:\n",
    "        t_end = x['endtime']\n",
    "    except KeyError:\n",
    "        t_end = x['time'] + x['dt'] * x['length']\n",
    "    get_wv(x['time'] - extend, t_end + extend,\n",
    "            **kwargs)"
   ]
  },
  {
   "cell_type": "code",
   "execution_count": null,
   "metadata": {},
   "outputs": [],
   "source": [
    "get_wv_of(sd.iloc[1], extend=int(1e5), \n",
    "          channels=[87], subdir='records',\n",
    "          time_unit='us', alternate_colors=True)"
   ]
  },
  {
   "cell_type": "code",
   "execution_count": null,
   "metadata": {},
   "outputs": [],
   "source": [
    "ts = get_chunk_starts('records')\n",
    "detector_time = (ts[-1] - ts[0] + np.diff(ts).mean()) / int(1e9)"
   ]
  },
  {
   "cell_type": "code",
   "execution_count": null,
   "metadata": {},
   "outputs": [],
   "source": [
    "!du -h {input_dir}/records"
   ]
  },
  {
   "cell_type": "code",
   "execution_count": null,
   "metadata": {},
   "outputs": [],
   "source": [
    "# weirdo_is = np.where((peaks['area'] > 1e5) & (aft > 0.9))[0]"
   ]
  },
  {
   "cell_type": "code",
   "execution_count": null,
   "metadata": {},
   "outputs": [],
   "source": [
    "def plot_peak(p, t0=None, **kwargs):\n",
    "    n = p['length']\n",
    "    if t0 is None:\n",
    "        t0 = p['time']\n",
    "    plt.plot((p['time'] - t0) + np.arange(n) * p['dt'], \n",
    "             p['data'][:n] / p['dt'], \n",
    "             linestyle='steps-mid',\n",
    "             **kwargs)\n",
    "    plt.xlabel(\"Time (ns)\")\n",
    "    plt.ylabel(\"Sum waveform (PE / ns)\")\n",
    "    \n",
    "def plot_peaks(peaks):\n",
    "    t0 = peaks[0]['time']\n",
    "    for p in peaks:\n",
    "        plot_peak(p, t0=t0,\n",
    "                  label='%.1e PE, %d ns dt' % (p['area'], p['dt'], ))\n",
    "    plt.ylim(0, None)\n",
    "\n",
    "i = weirdo_is[0]\n",
    "plot_peaks(peaks[i-1:i+5])\n",
    "plt.legend(loc='best')\n",
    "#plt.yscale('symlog')\n",
    "plt.show()\n",
    "aft[i-1:i+3]"
   ]
  },
  {
   "cell_type": "code",
   "execution_count": null,
   "metadata": {},
   "outputs": [],
   "source": [
    "#peaks[max_pmt[]]"
   ]
  },
  {
   "cell_type": "code",
   "execution_count": null,
   "metadata": {},
   "outputs": [],
   "source": []
  }
 ],
 "metadata": {
  "kernelspec": {
   "display_name": "Python 3",
   "language": "python",
   "name": "python3"
  },
  "language_info": {
   "codemirror_mode": {
    "name": "ipython",
    "version": 3
   },
   "file_extension": ".py",
   "mimetype": "text/x-python",
   "name": "python",
   "nbconvert_exporter": "python",
   "pygments_lexer": "ipython3",
   "version": "3.6.4"
  },
  "toc": {
   "nav_menu": {},
   "number_sections": true,
   "sideBar": true,
   "skip_h1_title": false,
   "toc_cell": false,
   "toc_position": {},
   "toc_section_display": "block",
   "toc_window_display": false
  }
 },
 "nbformat": 4,
 "nbformat_minor": 2
}
